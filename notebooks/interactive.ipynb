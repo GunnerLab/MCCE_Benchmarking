{
 "cells": [
  {
   "cell_type": "markdown",
   "metadata": {},
   "source": [
    "_Run the first 2 cells without modifications_"
   ]
  },
  {
   "cell_type": "code",
   "execution_count": 1,
   "metadata": {
    "jupyter": {
     "source_hidden": true
    },
    "scrolled": true
   },
   "outputs": [
    {
     "name": "stdout",
     "output_type": "stream",
     "text": [
      "Python ver: 3.11.5 | packaged by conda-forge | (main, Aug 27 2023, 03:34:09) [GCC 12.3.0]\n",
      "Python env: mce\n",
      "Currrent dir: /home/cat/projects/MCCE_Benchmarking/notebooks\n",
      "\n"
     ]
    }
   ],
   "source": [
    "from IPython.core.interactiveshell import InteractiveShell\n",
    "InteractiveShell.ast_node_interactivity = \"all\"\n",
    "from IPython import get_ipython\n",
    "from IPython.display import Markdown #, IFrame\n",
    "# for presentations:\n",
    "#display(HTML(\"<style>.container { width:100% !important; }</style>\"))\n",
    "\n",
    "import sys\n",
    "from pathlib import Path\n",
    "print('Python ver: {}\\nPython env: {}'.format(sys.version, Path(sys.prefix).name))\n",
    "print('Currrent dir: {}\\n'.format(Path.cwd()))\n",
    "\n",
    "\n",
    "def add_to_sys_path(this_path, up=False):\n",
    "\n",
    "    \"\"\"\n",
    "    Prepend this_path to sys.path.\n",
    "    If up=True, path refers to parent folder (1 level up).\n",
    "    \"\"\"\n",
    "\n",
    "    if up:\n",
    "        newp = str(Path(this_path).parent)\n",
    "    else:\n",
    "        newp = str(Path(this_path))\n",
    "\n",
    "    if newp not in sys.path:\n",
    "        sys.path.insert(1, newp)\n",
    "        print('Path added to sys.path: {}'.format(newp))\n",
    "\n",
    "\n",
    "import numpy as np\n",
    "import pandas as pd\n",
    "#pd.set_option(\"display.max_colwidth\", 200)\n",
    "import matplotlib as mpl\n",
    "from matplotlib import pyplot as plt\n",
    "#plt.ion()\n",
    "plt.style.use('seaborn-v0_8-muted')\n",
    "from pprint import pprint as pp\n",
    "\n",
    "def fdir(obj, start_with_str='_', exclude=True):\n",
    "    \"\"\"Filtered dir() for method discovery.\"\"\"\n",
    "    return [d for d in dir(obj) if not d.startswith(start_with_str) == exclude]\n",
    "\n",
    "\n",
    "def new_section(title='New section'):\n",
    "    style = \"text-align:center;background:#c2d3ef;padding:16px;color:#ffffff;font-size:2em;width:98%\"\n",
    "    return HTML('<div style=\"{}\">{}</div>'.format(style, title))\n",
    "\n",
    "\n",
    "def add_div(div_class, div_start, div_text, output_string=True):\n",
    "    \"\"\"\n",
    "    Behaviour with default `output_string=True`:\n",
    "    The cell is overwritten with the output string, but the cell mode is still in 'code' not 'markdown':\n",
    "    ```\n",
    "    [x]\n",
    "    add_div('alert-warning', 'Tip: ', 'some tip here', output_string=True)\n",
    "    [x]\n",
    "    <div class=\"alert alert-warning\"><b>Tip: </b>some tip here</div>\n",
    "    ```\n",
    "    The only thing to do is change the cell mode to Markdown.\n",
    "    If `output_string=False`, the HTML output is displayed in an output cell.\n",
    "    \"\"\"\n",
    "\n",
    "    accepted = ['alert-info', 'alert-warning', 'alert-danger']\n",
    "\n",
    "    if div_class not in accepted:\n",
    "        return HTML(f\"\"\"<div class=\"alert\"><b>Wrong class:</b> `div_start` is one of {accepted}.\n",
    "                    </div>\"\"\")\n",
    "    div = f\"\"\"<div class=\"alert {div_class}\"><b>{div_start}</b>{div_text}</div>\"\"\"\n",
    "    if output_string:\n",
    "        return get_ipython().set_next_input(div, 'markdown')\n",
    "    else:\n",
    "        return Markdown(div) #HTML(div)\n",
    "\n",
    "\n",
    "\n",
    "# autoreload extension\n",
    "ipython = get_ipython()\n",
    "if 'autoreload' not in ipython.extension_manager.loaded:\n",
    "    %load_ext autoreload\n",
    "%autoreload 2"
   ]
  },
  {
   "cell_type": "code",
   "execution_count": 2,
   "metadata": {},
   "outputs": [
    {
     "name": "stdout",
     "output_type": "stream",
     "text": [
      "Path added to sys.path: /home/cat/projects/MCCE_Benchmarking\n"
     ]
    }
   ],
   "source": [
    "add_to_sys_path(Path.cwd(), up=True)"
   ]
  },
  {
   "cell_type": "markdown",
   "metadata": {},
   "source": [
    "---\n",
    "---\n"
   ]
  },
  {
   "cell_type": "code",
   "execution_count": 5,
   "metadata": {},
   "outputs": [
    {
     "data": {
      "text/plain": [
       "PosixPath('/home/cat/projects/MCCE_Benchmarking/data/clean_pdbs')"
      ]
     },
     "execution_count": 5,
     "metadata": {},
     "output_type": "execute_result"
    },
    {
     "data": {
      "text/plain": [
       "PosixPath('/home/cat/projects/MCCE_Benchmarking/data/WT_pkas.csv')"
      ]
     },
     "execution_count": 5,
     "metadata": {},
     "output_type": "execute_result"
    },
    {
     "data": {
      "text/plain": [
       "PosixPath('/home/cat/projects/MCCE_Benchmarking/data/book.txt')"
      ]
     },
     "execution_count": 5,
     "metadata": {},
     "output_type": "execute_result"
    }
   ],
   "source": [
    "DATA = Path.cwd().parent.joinpath(\"data\")\n",
    "\n",
    "PDBS = DATA.joinpath(\"clean_pdbs\")\n",
    "PDBS\n",
    "WT = DATA.joinpath(\"WT_pkas.csv\")\n",
    "WT\n",
    "Q_BOOK = DATA.joinpath(\"book.txt\")\n",
    "Q_BOOK\n",
    "#PROTS = DATA.joinpath(\"proteins.txt\")"
   ]
  },
  {
   "cell_type": "code",
   "execution_count": 20,
   "metadata": {},
   "outputs": [],
   "source": [
    "from benchmark import audit\n",
    "import subprocess\n",
    "import getpass\n",
    "import shutil\n",
    "import random"
   ]
  },
  {
   "cell_type": "code",
   "execution_count": null,
   "metadata": {},
   "outputs": [],
   "source": [
    "def get_jobs(job_name):\n",
    "    \"\"\"\n",
    "    (base) cat@LABTOP:~/projects$ ps -u\n",
    "    USER       PID %CPU %MEM    VSZ   RSS TTY      STAT START   TIME COMMAND\n",
    "    cat          9  0.0  0.0   9540  5568 pts/0    Ss   15:20   0:00 -bash\n",
    "    cat        116  0.0  0.0   9552  5652 pts/1    Ss   15:50   0:01 -bash\n",
    "    cat        569  0.5  1.3 435456 133116 pts/1   Sl+  17:28   0:09 /home/cat/miniconda3/bin/python3.11 /home/cat/miniconda3/bin/jupyter-lab\n",
    "    cat        981  0.0  0.0  10460  3252 pts/0    R+   17:57   0:00 ps -u\n",
    "\n",
    "    (base) cat@LABTOP:~/projects$ pgrep bash\n",
    "    9\n",
    "    116\n",
    "    \"\"\"\n",
    "    #pgrep_cmd = f\"pgrep {job_name}\"\n",
    "    #poc_id = subprocess.Popen([pgrep_cmd]], stdout=subprocess.PIPE).stdout.readlines()\n",
    "\n",
    "    lines = subprocess.Popen([\"ps\", \"-u\", f\"{getpass.getuser()}\"], stdout=subprocess.PIPE).stdout.readlines()\n",
    "    job_uids = [x.decode(\"ascii\").split()[0] for x in lines if x.decode(\"ascii\").find(job_name) > 0]\n",
    "    job_uids = [x for x in job_uids if x and x != \"PID\"]\n",
    "\n",
    "    jobs = []\n",
    "    for uid in job_uids:\n",
    "        output = subprocess.Popen([\"pwdx\", uid], stdout=subprocess.PIPE).stdout.readlines()[0].decode(\"ascii\")\n",
    "        job = output.split(\":\")[1].split(\"/\")[-1].strip()\n",
    "        if job:\n",
    "            jobs.append(job)\n",
    "    return jobs"
   ]
  },
  {
   "cell_type": "code",
   "execution_count": 35,
   "metadata": {},
   "outputs": [
    {
     "name": "stdout",
     "output_type": "stream",
     "text": [
      "pgrep data ['9', '116']\n",
      "pwdx data: output = '9: /home/cat/projects/MCCE_Benchmarking/notebooks'\n",
      "pwdx data: output = '116: /home/cat/projects/MCCE_Benchmarking'\n"
     ]
    }
   ],
   "source": [
    "job_name = \"bash\"\n",
    "#cmd = f\"ps -u {getpass.getuser()}\"\n",
    "\n",
    "cmd = f\"pgrep -u {getpass.getuser()} {job_name}\"\n",
    "data = subprocess.check_output(cmd,\n",
    "                               stderr=subprocess.STDOUT,\n",
    "                               text=True,\n",
    "                               shell=True\n",
    "                              ).splitlines()\n",
    "\n",
    "print(\"pgrep data\", data)\n",
    "\n",
    "dirs = []\n",
    "for uid in data:\n",
    "    #output = subprocess.Popen([\"pwdx\", uid], stdout=subprocess.PIPE).stdout.readlines()[0].decode(\"ascii\")\n",
    "    cmd = f\"pwdx {uid}\"\n",
    "    output = subprocess.check_output(cmd,\n",
    "                                     stderr=subprocess.STDOUT,\n",
    "                                     text=True,\n",
    "                                     shell=True\n",
    "                                     ).strip()\n",
    "    print(f\"pwdx data: {output = }\")\n",
    "    #d = output.split(\":\")[1].split(\"/\")[-1].strip()\n",
    "    #if d:\n",
    "    #    dirs.append(d)\n"
   ]
  },
  {
   "cell_type": "code",
   "execution_count": null,
   "metadata": {},
   "outputs": [],
   "source": []
  },
  {
   "cell_type": "code",
   "execution_count": 19,
   "metadata": {},
   "outputs": [
    {
     "data": {
      "text/plain": [
       "(3, 6, 2000)"
      ]
     },
     "execution_count": 19,
     "metadata": {},
     "output_type": "execute_result"
    }
   ],
   "source": [
    "runprm = \"run.prm.record\"\n",
    "\n",
    "cmd = f\"grep -E 'MONTE_FLIPS|MONTE_RUNS|MONTE_NITER' ./{runprm}| sed -e 's/(//g; s/MONTE_//g; s/)//g'\"\n",
    "data = subprocess.check_output(cmd,\n",
    "                                stderr=subprocess.STDOUT,\n",
    "                                text=True,\n",
    "                                  shell=True\n",
    "                                  ).splitlines()\n",
    "\n",
    "FLIPS = int(data[0].split()[0])\n",
    "RUNS =  int(data[1].split()[0])\n",
    "NITER = int(data[2].split()[0])\n",
    "FLIPS, RUNS, NITER"
   ]
  },
  {
   "cell_type": "code",
   "execution_count": null,
   "metadata": {},
   "outputs": [],
   "source": []
  },
  {
   "cell_type": "raw",
   "metadata": {},
   "source": [
    "\n",
    "\n",
    "From JM:\n",
    "4. Start a fresh batch run\n",
    "    * make prot.pdb ready\n",
    "    * remove pK.out\n",
    "    * make book file ready (clear the status code)\n",
    "    * prepare job script - run.sh\n",
    "    * edit 3 entries in bin/batch_submit.py\n",
    "        n_active = 10   # keep this number of active jobs\n",
    "        queue_book = \"book\"\n",
    "        job_name = \"run.sh\"\n",
    "    * go to batch directory, run ../bin/batch_submit.py\n",
    "    * test if book file has a new time stamp every time you run the batch_submit.py script."
   ]
  },
  {
   "cell_type": "raw",
   "metadata": {},
   "source": [
    "import subprocess\n",
    "\n",
    "def _get_runprm_data(self):\n",
    "    # ~/projects/_tmp$ nn ms_sampling_to_pdbs-Copy1.py\n",
    "\n",
    "    \"\"\"Populate class vars: T, MC_RUNS, MC_NITER.\"\"\"\n",
    "\n",
    "    runprm = self.mcce_out.joinpath(\"run.prm.record\")\n",
    "    check_path(runprm)\n",
    "\n",
    "    prmdata = subprocess.check_output(\n",
    "        f\"grep -E 'MONTE_T)|MONTE_RUNS|MONTE_NITER' {runprm} | sed -e 's/(//g; s/MONTE_//g; s/)//g'\",\n",
    "        stderr=subprocess.STDOUT,\n",
    "        shell=True,\n",
    "    ).decode().splitlines()\n",
    "\n",
    "    self.T = float(prmdata[0].split()[0])\n",
    "    self.MC_RUNS =  int(prmdata[1].split()[0])\n",
    "    self.MC_NITER = int(prmdata[2].split()[0])\n",
    "\n",
    "    return\n",
    "\n",
    "# needed\n",
    "path_to_runprm = \"\"\n",
    "\n",
    "data = subprocess.check_output(f\"grep -E 'MONTE_FLIPS|MONTE_RUNS|MONTE_NITER' ../{runprm2}| sed -e 's/(//g; s/MONTE_//g; s/)//g'\",\n",
    "                                  stderr=subprocess.STDOUT,\n",
    "                                  shell=True\n",
    "                                  ).decode().splitlines()\n",
    "\n",
    "FLIPS = int(data[0].split()[0])\n",
    "RUNS =  int(data[1].split()[0])\n",
    "NITER = int(data[2].split()[0])\n",
    "FLIPS, RUNS, NITER"
   ]
  },
  {
   "cell_type": "raw",
   "metadata": {
    "jupyter": {
     "source_hidden": true
    }
   },
   "source": [
    "def main():\n",
    "\n",
    "    calc_pkas = job_pkas_to_dict()\n",
    "    expr_pkas = experimental_pkas_to_dict()\n",
    "    matched_pks = match_pkas(expr_pkas, calc_pkas)\n",
    "    n = len(matched_pks)\n",
    "    matched_pkas_to_csv(matched_pks)\n",
    "\n",
    "    # Overall fitting\n",
    "    x = np.array([p[1] for p in matched_pks])  # x: experiemntal pKas\n",
    "    y = np.array([p[2] for p in matched_pks])  # y: calculated pKas\n",
    "\n",
    "    b, m = np.polynomial.Polynomial.fit(x, y, 1, domain=[0,20]).convert().coef\n",
    "    op = \"+\" if m > 0 else \"-\"\n",
    "    print(f\"y (calculated pKa) = {b:.3f} {op} {abs(m):.3f}x (experimental pKa)\")\n",
    "\n",
    "    delta = x - y\n",
    "    rmsd = np.sqrt(np.mean(delta**2))\n",
    "    print(f\"RMSD between expl. and calc. = {rmsd:.3f}\")\n",
    "\n",
    "    within_2, within_1 = 0, 0\n",
    "    for d in np.abs(delta):\n",
    "        if d <= 2.0:\n",
    "            within_2 += 1\n",
    "            if d <= 1.0:\n",
    "                within_1 += 1\n",
    "\n",
    "    print(f\"{within_2/n:.1%} within 2 pH units\")\n",
    "    print(f\"{within_1/n:.1%} within 1 pH unit\")\n"
   ]
  }
 ],
 "metadata": {
  "kernelspec": {
   "display_name": "Python [conda env:mce]",
   "language": "python",
   "name": "conda-env-mce-py"
  },
  "language_info": {
   "codemirror_mode": {
    "name": "ipython",
    "version": 3
   },
   "file_extension": ".py",
   "mimetype": "text/x-python",
   "name": "python",
   "nbconvert_exporter": "python",
   "pygments_lexer": "ipython3",
   "version": "3.11.5"
  }
 },
 "nbformat": 4,
 "nbformat_minor": 4
}
