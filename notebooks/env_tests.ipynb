{
 "cells": [
  {
   "cell_type": "markdown",
   "metadata": {},
   "source": [
    "_Run the first 2 code cells without modifications_"
   ]
  },
  {
   "cell_type": "code",
   "execution_count": 44,
   "metadata": {
    "jupyter": {
     "source_hidden": true
    },
    "scrolled": true
   },
   "outputs": [
    {
     "data": {
      "text/plain": [
       "<contextlib.ExitStack at 0x7f20f06b61d0>"
      ]
     },
     "execution_count": 44,
     "metadata": {},
     "output_type": "execute_result"
    },
    {
     "name": "stdout",
     "output_type": "stream",
     "text": [
      "Python ver: 3.11.5 | packaged by conda-forge | (main, Aug 27 2023, 03:34:09) [GCC 12.3.0]\n",
      "Python env: mce\n",
      "Currrent dir: /home/cat/projects/MCCE_Benchmarking/notebooks\n",
      "\n",
      "The autoreload extension is already loaded. To reload it, use:\n",
      "  %reload_ext autoreload\n"
     ]
    }
   ],
   "source": [
    "from IPython.core.interactiveshell import InteractiveShell\n",
    "InteractiveShell.ast_node_interactivity = \"all\"\n",
    "\n",
    "from IPython.display import Markdown #, IFrame\n",
    "# for presentations:\n",
    "#display(HTML(\"<style>.container { width:100% !important; }</style>\"))\n",
    "\n",
    "import numpy as np\n",
    "import pandas as pd\n",
    "#pd.set_option(\"display.max_colwidth\", 200)\n",
    "import matplotlib as mpl\n",
    "from matplotlib import pyplot as plt\n",
    "plt.ion()\n",
    "plt.style.use('seaborn-v0_8-muted')\n",
    "from pprint import pprint as ptp\n",
    "\n",
    "import sys\n",
    "from pathlib import Path\n",
    "print('Python ver: {}\\nPython env: {}'.format(sys.version, Path(sys.prefix).name))\n",
    "print('Currrent dir: {}\\n'.format(Path.cwd()))\n",
    "\n",
    "\n",
    "def add_to_sys_path(this_path, up=False):\n",
    "    \"\"\"\n",
    "    Prepend this_path to sys.path.\n",
    "    If up=True, path refers to parent folder (1 level up).\n",
    "    \"\"\"\n",
    "\n",
    "    if up:\n",
    "        newp = str(Path(this_path).parent)\n",
    "    else:\n",
    "        newp = str(Path(this_path))\n",
    "    if newp not in sys.path:\n",
    "        sys.path.insert(1, newp)\n",
    "        print('Path added to sys.path: {}'.format(newp))\n",
    "\n",
    "\n",
    "def fdir(obj, start_with_str='_', exclude=True):\n",
    "    \"\"\"Filtered dir() for method discovery.\"\"\"\n",
    "    return [d for d in dir(obj) if not d.startswith(start_with_str) == exclude]\n",
    "\n",
    "def despine(which=['top','right']):\n",
    "    \"\"\"which ([str])): 'left','top','right','bottom'.\"\"\"\n",
    "\n",
    "    ax = plt.gca()\n",
    "    for side in which:\n",
    "        ax.spines[side].set_visible(False)\n",
    "    return\n",
    "\n",
    "def md_width_comment(w:int=120) -> str:\n",
    "    \"\"\"Width guide for composing md documents.\"\"\"\n",
    "    return f\"<!-- dotted line width = {w}\\n{'.'*w}-->\"\n",
    "\n",
    "\n",
    "# autoreload extension\n",
    "%load_ext autoreload\n",
    "%autoreload 2"
   ]
  },
  {
   "cell_type": "raw",
   "metadata": {},
   "source": [
    "notebooks_dir = Path.cwd()\n",
    "add_to_sys_path(notebooks_dir, up=True)\n",
    "notebooks_dir"
   ]
  },
  {
   "cell_type": "markdown",
   "metadata": {},
   "source": [
    "---\n",
    "---"
   ]
  },
  {
   "cell_type": "code",
   "execution_count": 2,
   "metadata": {},
   "outputs": [],
   "source": [
    "from mcce_benchmark import APP_NAME, BENCH\n",
    "from mcce_benchmark import DEFAULT_DIR, N_BATCH, N_PDBS, ENTRY_POINTS, OUT_FILES, MCCE_OUTPUTS, ANALYZE_DIR\n",
    "from mcce_benchmark import USER_PRFX, USER_ENV, CONDA_PATH\n",
    "from mcce_benchmark import io_utils as iou\n",
    "from mcce_benchmark.io_utils import Pathok\n",
    "\n",
    "import subprocess\n",
    "from typing import Union\n",
    "import shutil"
   ]
  },
  {
   "cell_type": "code",
   "execution_count": 3,
   "metadata": {},
   "outputs": [
    {
     "name": "stdout",
     "output_type": "stream",
     "text": [
      "\n",
      "        BENCH_DATA = /home/cat/projects/MCCE_Benchmarking/mcce_benchmark/data\n",
      "        BENCH_REFS = /home/cat/projects/MCCE_Benchmarking/mcce_benchmark/data/refsets\n",
      "        BENCH_PARSE_E4 = /home/cat/projects/MCCE_Benchmarking/mcce_benchmark/data/refsets/parse.e4\n",
      "        BENCH_DB = /home/cat/projects/MCCE_Benchmarking/mcce_benchmark/data/pkadbv1\n",
      "        BENCH_WT = /home/cat/projects/MCCE_Benchmarking/mcce_benchmark/data/pkadbv1/WT_pkas.csv\n",
      "        BENCH_PROTS = /home/cat/projects/MCCE_Benchmarking/mcce_benchmark/data/pkadbv1/proteins.tsv\n",
      "        BENCH_PDBS = /home/cat/projects/MCCE_Benchmarking/mcce_benchmark/data/pkadbv1/clean_pdbs\n",
      "        DEFAULT_JOB = default_run\n",
      "        DEFAULT_JOB_SH = /home/cat/projects/MCCE_Benchmarking/mcce_benchmark/data/pkadbv1/clean_pdbs/default_run.sh\n",
      "        BENCH_Q_BOOK = /home/cat/projects/MCCE_Benchmarking/mcce_benchmark/data/pkadbv1/clean_pdbs/book.txt\n",
      "        CLEAN_PDBS = clean_pdbs\n",
      "        Q_BOOK = book.txt\n",
      "        \n",
      "USER_PRFX = '/home/cat/miniconda3/envs/mce'\n",
      "USER_ENV = 'mce'\n",
      "CONDA_PATH = PosixPath('/home/cat/miniconda3/condabin')\n",
      "here = PosixPath('/home/cat/projects/MCCE_Benchmarking/notebooks')\n"
     ]
    }
   ],
   "source": [
    "print(BENCH)\n",
    "print(f\"{USER_PRFX = }\\n{USER_ENV = }\\n{CONDA_PATH = }\")\n",
    "here = Path.cwd()\n",
    "print(f\"{here = }\")"
   ]
  },
  {
   "cell_type": "raw",
   "metadata": {},
   "source": [
    "---\n",
    "In Issue 16:\n",
    "\n",
    "# NEW REQ: Need to dissociate Analysis from Comparison\n",
    "\n",
    "\n",
    "## EP `bench_analyze`: Additional requirement: comparison validation __TODO__\r\n",
    "  * Purpose: validate comparison if difference in run parameters applies to only one key (using ENV).\r\n",
    "  * Used by:\r\n",
    "    -  `bench_analyze expl_pkas` if \"-refset\" is not N; in case user wants to compare 2 runs with same EPSILON_PROTone\r\n",
    "    -  `bench_analyze mcunscruns"
   ]
  },
  {
   "cell_type": "code",
   "execution_count": 45,
   "metadata": {},
   "outputs": [],
   "source": [
    "import mcce_benchmark.mcce_env as mcenv  #import ENV"
   ]
  },
  {
   "cell_type": "raw",
   "metadata": {},
   "source": [
    "(base) cat@LABTOP:~/projects/bench_tests$ tree --dirsfirst  -L 1\n",
    "# Except where indicated, all runs where setup via app\n",
    ".\n",
    "├── all_pdbs\n",
    "├── bench_mcceA      # mcce runs setup via app\n",
    "├── bench_mcceB\n",
    "├── bench_mcce_preA   # pre-exisitng mcce run\n",
    "├── bench_mcce_preB   # pre-exisitng mcce run\n",
    "├── pdbs2\n",
    "├── pdbs3\n",
    "├── pdbs4\n",
    "├── pdbs5\n",
    "├── benchmark.info\n",
    "└── benchmark.log"
   ]
  },
  {
   "cell_type": "code",
   "execution_count": 46,
   "metadata": {},
   "outputs": [],
   "source": [
    "# For testing ENV\n",
    "\n",
    "# completed runs\n",
    "dirA = Pathok(here.parent.parent.joinpath(\"bench_tests\",\"pdbs3\"))\n",
    "dirB = Pathok(here.parent.parent.joinpath(\"bench_tests\",\"pdbs2\"))\n",
    "\n",
    "dirC = Pathok(here.parent.parent.joinpath(\"bench_tests\",\"bench_mcceA\"))\n",
    "dirD = Pathok(here.parent.parent.joinpath(\"bench_tests\",\"bench_mcceB\"))\n",
    "\n",
    "dir_preA = Pathok(here.parent.parent.joinpath(\"bench_tests\",\"bench_mcce_preA\"))\n",
    "dir_preB = Pathok(here.parent.parent.joinpath(\"bench_tests\",\"bench_mcce_preB\"))"
   ]
  },
  {
   "cell_type": "code",
   "execution_count": 47,
   "metadata": {},
   "outputs": [
    {
     "name": "stdout",
     "output_type": "stream",
     "text": [
      "env_dir1 = PosixPath('/home/cat/projects/bench_tests/pdbs3/clean_pdbs/135L')\n",
      "env_dir2 = PosixPath('/home/cat/projects/MCCE_Benchmarking/mcce_benchmark/data/refsets/parse.e4/clean_pdbs/1D0D')\n",
      "\n"
     ]
    }
   ],
   "source": [
    "env_dir1 = mcenv.get_mcce_env_dir(dirA)\n",
    "print(f\"{env_dir1 = }\")\n",
    "\n",
    "refset = BENCH.BENCH_PARSE_E4\n",
    "env_dir2 = mcenv.get_mcce_env_dir(refset, is_refset=True)\n",
    "print(f\"{env_dir2 = }\")\n",
    "print()"
   ]
  },
  {
   "cell_type": "code",
   "execution_count": 79,
   "metadata": {},
   "outputs": [],
   "source": [
    "env1 = mcenv.get_run_env(dirA)\n",
    "env2 = mcenv.get_run_env(refset, is_refset=True)"
   ]
  },
  {
   "cell_type": "code",
   "execution_count": 80,
   "metadata": {},
   "outputs": [
    {
     "name": "stdout",
     "output_type": "stream",
     "text": [
      "ok\n",
      "These path keys differ between the two run sets.\n",
      "DELPHI_EXE\t:\t[('env1', '/home/cat/miniconda3/envs/mce/bin/delphi'), ('env2', '/home/mcce/Stable-MCCE/bin/delphi')]\n",
      "MCCE_HOME\t:\t[('env1', '/home/cat/miniconda3/envs/mce'), ('env2', '/home/mcce/Stable-MCCE')]\n",
      "\n"
     ]
    }
   ],
   "source": [
    "#print(env1)\n",
    "ok, msg = mcenv.valid_envs(env1, env2)\n",
    "if ok:\n",
    "    print(\"ok\", msg, sep=\"\\n\")\n",
    "else:\n",
    "    print(\"not ok\", msg, sep=\"\\n\")"
   ]
  },
  {
   "cell_type": "code",
   "execution_count": 52,
   "metadata": {},
   "outputs": [
    {
     "name": "stdout",
     "output_type": "stream",
     "text": [
      "env_dir1 = PosixPath('/home/cat/projects/bench_tests/bench_mcceA/mcce_runs/135L')\n",
      "env_dir2 = PosixPath('/home/cat/projects/bench_tests/bench_mcceB/mcce_runs/135L')\n"
     ]
    }
   ],
   "source": [
    "env_dir1 = get_mcce_env_dir(dirC, caller_subcmd=\"mcce_runs\")\n",
    "print(f\"{env_dir1 = }\")\n",
    "env_dir2 = get_mcce_env_dir(dirD, caller_subcmd=\"mcce_runs\")\n",
    "print(f\"{env_dir2 = }\")"
   ]
  },
  {
   "cell_type": "code",
   "execution_count": 53,
   "metadata": {},
   "outputs": [
    {
     "name": "stdout",
     "output_type": "stream",
     "text": [
      "env_dir1 = PosixPath('/home/cat/projects/bench_tests/bench_mcce_preA')\n",
      "env_dir2 = PosixPath('/home/cat/projects/bench_tests/bench_mcce_preB')\n"
     ]
    }
   ],
   "source": [
    "env_dir1 = get_mcce_env_dir(dir_preA, caller_subcmd=\"mcce_runs\", pre_existing=True)\n",
    "print(f\"{env_dir1 = }\")\n",
    "env_dir2 = get_mcce_env_dir(dir_preB, caller_subcmd=\"mcce_runs\", pre_existing=True)\n",
    "print(f\"{env_dir2 = }\")"
   ]
  },
  {
   "cell_type": "code",
   "execution_count": null,
   "metadata": {},
   "outputs": [],
   "source": []
  },
  {
   "cell_type": "markdown",
   "metadata": {
    "editable": true,
    "slideshow": {
     "slide_type": ""
    },
    "tags": []
   },
   "source": []
  }
 ],
 "metadata": {
  "kernelspec": {
   "display_name": "Python [conda env:mce]",
   "language": "python",
   "name": "conda-env-mce-py"
  },
  "language_info": {
   "codemirror_mode": {
    "name": "ipython",
    "version": 3
   },
   "file_extension": ".py",
   "mimetype": "text/x-python",
   "name": "python",
   "nbconvert_exporter": "python",
   "pygments_lexer": "ipython3",
   "version": "3.11.5"
  }
 },
 "nbformat": 4,
 "nbformat_minor": 4
}
