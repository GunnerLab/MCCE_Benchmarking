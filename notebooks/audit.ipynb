{
 "cells": [
  {
   "cell_type": "markdown",
   "metadata": {},
   "source": [
    "_Run the first 2 cells without modifications_"
   ]
  },
  {
   "cell_type": "code",
   "execution_count": 1,
   "metadata": {
    "jupyter": {
     "source_hidden": true
    },
    "scrolled": true
   },
   "outputs": [
    {
     "name": "stdout",
     "output_type": "stream",
     "text": [
      "Python ver: 3.11.5 | packaged by conda-forge | (main, Aug 27 2023, 03:34:09) [GCC 12.3.0]\n",
      "Python env: mce\n",
      "Currrent dir: /home/cat/projects/MCCE_Benchmarking/notebooks\n",
      "\n"
     ]
    }
   ],
   "source": [
    "from IPython.core.interactiveshell import InteractiveShell\n",
    "InteractiveShell.ast_node_interactivity = \"all\"\n",
    "from IPython import get_ipython\n",
    "from IPython.display import Markdown #, IFrame\n",
    "# for presentations:\n",
    "#display(HTML(\"<style>.container { width:100% !important; }</style>\"))\n",
    "\n",
    "import sys\n",
    "from pathlib import Path\n",
    "print('Python ver: {}\\nPython env: {}'.format(sys.version, Path(sys.prefix).name))\n",
    "print('Currrent dir: {}\\n'.format(Path.cwd()))\n",
    "\n",
    "\n",
    "def add_to_sys_path(this_path, up=False):\n",
    "\n",
    "    \"\"\"\n",
    "    Prepend this_path to sys.path.\n",
    "    If up=True, path refers to parent folder (1 level up).\n",
    "    \"\"\"\n",
    "\n",
    "    if up:\n",
    "        newp = str(Path(this_path).parent)\n",
    "    else:\n",
    "        newp = str(Path(this_path))\n",
    "\n",
    "    if newp not in sys.path:\n",
    "        sys.path.insert(1, newp)\n",
    "        print('Path added to sys.path: {}'.format(newp))\n",
    "\n",
    "\n",
    "import numpy as np\n",
    "import pandas as pd\n",
    "#pd.set_option(\"display.max_colwidth\", 200)\n",
    "import matplotlib as mpl\n",
    "from matplotlib import pyplot as plt\n",
    "#plt.ion()\n",
    "plt.style.use('seaborn-v0_8-muted')\n",
    "from pprint import pprint as pp\n",
    "\n",
    "def fdir(obj, start_with_str='_', exclude=True):\n",
    "    \"\"\"Filtered dir() for method discovery.\"\"\"\n",
    "    return [d for d in dir(obj) if not d.startswith(start_with_str) == exclude]\n",
    "\n",
    "\n",
    "def new_section(title='New section'):\n",
    "    style = \"text-align:center;background:#c2d3ef;padding:16px;color:#ffffff;font-size:2em;width:98%\"\n",
    "    return HTML('<div style=\"{}\">{}</div>'.format(style, title))\n",
    "\n",
    "\n",
    "def add_div(div_class, div_start, div_text, output_string=True):\n",
    "    \"\"\"\n",
    "    Behaviour with default `output_string=True`:\n",
    "    The cell is overwritten with the output string, but the cell mode is still in 'code' not 'markdown':\n",
    "    ```\n",
    "    [x]\n",
    "    add_div('alert-warning', 'Tip: ', 'some tip here', output_string=True)\n",
    "    [x]\n",
    "    <div class=\"alert alert-warning\"><b>Tip: </b>some tip here</div>\n",
    "    ```\n",
    "    The only thing to do is change the cell mode to Markdown.\n",
    "    If `output_string=False`, the HTML output is displayed in an output cell.\n",
    "    \"\"\"\n",
    "\n",
    "    accepted = ['alert-info', 'alert-warning', 'alert-danger']\n",
    "\n",
    "    if div_class not in accepted:\n",
    "        return HTML(f\"\"\"<div class=\"alert\"><b>Wrong class:</b> `div_start` is one of {accepted}.\n",
    "                    </div>\"\"\")\n",
    "    div = f\"\"\"<div class=\"alert {div_class}\"><b>{div_start}</b>{div_text}</div>\"\"\"\n",
    "    if output_string:\n",
    "        return get_ipython().set_next_input(div, 'markdown')\n",
    "    else:\n",
    "        return Markdown(div) #HTML(div)\n",
    "\n",
    "\n",
    "\n",
    "# autoreload extension\n",
    "ipython = get_ipython()\n",
    "if 'autoreload' not in ipython.extension_manager.loaded:\n",
    "    %load_ext autoreload\n",
    "%autoreload 2"
   ]
  },
  {
   "cell_type": "code",
   "execution_count": 2,
   "metadata": {},
   "outputs": [
    {
     "name": "stdout",
     "output_type": "stream",
     "text": [
      "Path added to sys.path: /home/cat/projects/MCCE_Benchmarking\n"
     ]
    }
   ],
   "source": [
    "add_to_sys_path(Path.cwd(), up=True)"
   ]
  },
  {
   "cell_type": "code",
   "execution_count": 265,
   "metadata": {},
   "outputs": [
    {
     "name": "stdout",
     "output_type": "stream",
     "text": [
      "audit DATA: /home/cat/projects/MCCE_Benchmarking/benchmark/data\n"
     ]
    }
   ],
   "source": [
    "from benchmark import audit\n",
    "import shutil\n",
    "import random\n",
    "import subprocess"
   ]
  },
  {
   "cell_type": "raw",
   "metadata": {},
   "source": [
    "DATA = Path(\"../\").joinpath(\"benchmark\", \"data\")\n",
    "DATA\n",
    "PDBS = DATA.joinpath(\"clean_pdbs\")\n",
    "PDBS\n",
    "WT = DATA.joinpath(\"WT_pkas.csv\")\n",
    "WT\n",
    "Q_BOOK = DATA.joinpath(\"book.txt\")\n",
    "Q_BOOK\n",
    "PROTS = DATA.joinpath(\"proteins.tsv\")\n",
    "PROTS"
   ]
  },
  {
   "cell_type": "code",
   "execution_count": 291,
   "metadata": {},
   "outputs": [
    {
     "data": {
      "text/html": [
       "<div>\n",
       "<style scoped>\n",
       "    .dataframe tbody tr th:only-of-type {\n",
       "        vertical-align: middle;\n",
       "    }\n",
       "\n",
       "    .dataframe tbody tr th {\n",
       "        vertical-align: top;\n",
       "    }\n",
       "\n",
       "    .dataframe thead th {\n",
       "        text-align: right;\n",
       "    }\n",
       "</style>\n",
       "<table border=\"1\" class=\"dataframe\">\n",
       "  <thead>\n",
       "    <tr style=\"text-align: right;\">\n",
       "      <th></th>\n",
       "      <th>PDB</th>\n",
       "      <th>Biounit</th>\n",
       "      <th>Use</th>\n",
       "      <th>Model</th>\n",
       "    </tr>\n",
       "  </thead>\n",
       "  <tbody>\n",
       "    <tr>\n",
       "      <th>0</th>\n",
       "      <td>#1A91</td>\n",
       "      <td>Membrane protein</td>\n",
       "      <td>NaN</td>\n",
       "      <td>NaN</td>\n",
       "    </tr>\n",
       "    <tr>\n",
       "      <th>1</th>\n",
       "      <td>#1A93</td>\n",
       "      <td>Membrane protein</td>\n",
       "      <td>NaN</td>\n",
       "      <td>NaN</td>\n",
       "    </tr>\n",
       "    <tr>\n",
       "      <th>2</th>\n",
       "      <td>#1AZP</td>\n",
       "      <td>Nucleotide binding protein</td>\n",
       "      <td>NaN</td>\n",
       "      <td>NaN</td>\n",
       "    </tr>\n",
       "    <tr>\n",
       "      <th>3</th>\n",
       "      <td>#1BCX</td>\n",
       "      <td>beta-D-xylopyranose no ftpl</td>\n",
       "      <td>NaN</td>\n",
       "      <td>NaN</td>\n",
       "    </tr>\n",
       "    <tr>\n",
       "      <th>4</th>\n",
       "      <td>#1BNZ</td>\n",
       "      <td>Nucleotide binding protein</td>\n",
       "      <td>NaN</td>\n",
       "      <td>NaN</td>\n",
       "    </tr>\n",
       "    <tr>\n",
       "      <th>...</th>\n",
       "      <td>...</td>\n",
       "      <td>...</td>\n",
       "      <td>...</td>\n",
       "      <td>...</td>\n",
       "    </tr>\n",
       "    <tr>\n",
       "      <th>148</th>\n",
       "      <td>4PTI</td>\n",
       "      <td>1</td>\n",
       "      <td>A</td>\n",
       "      <td>single</td>\n",
       "    </tr>\n",
       "    <tr>\n",
       "      <th>149</th>\n",
       "      <td>6LYZ</td>\n",
       "      <td>1</td>\n",
       "      <td>A</td>\n",
       "      <td>single</td>\n",
       "    </tr>\n",
       "    <tr>\n",
       "      <th>150</th>\n",
       "      <td>7RSA</td>\n",
       "      <td>1</td>\n",
       "      <td>A</td>\n",
       "      <td>single</td>\n",
       "    </tr>\n",
       "    <tr>\n",
       "      <th>151</th>\n",
       "      <td>9RAT</td>\n",
       "      <td>1</td>\n",
       "      <td>A</td>\n",
       "      <td>single</td>\n",
       "    </tr>\n",
       "    <tr>\n",
       "      <th>152</th>\n",
       "      <td>9RNT</td>\n",
       "      <td>1</td>\n",
       "      <td>A</td>\n",
       "      <td>single</td>\n",
       "    </tr>\n",
       "  </tbody>\n",
       "</table>\n",
       "<p>153 rows × 4 columns</p>\n",
       "</div>"
      ],
      "text/plain": [
       "       PDB                      Biounit  Use   Model\n",
       "0    #1A91             Membrane protein  NaN     NaN\n",
       "1    #1A93             Membrane protein  NaN     NaN\n",
       "2    #1AZP   Nucleotide binding protein  NaN     NaN\n",
       "3    #1BCX  beta-D-xylopyranose no ftpl  NaN     NaN\n",
       "4    #1BNZ   Nucleotide binding protein  NaN     NaN\n",
       "..     ...                          ...  ...     ...\n",
       "148   4PTI                            1    A  single\n",
       "149   6LYZ                            1    A  single\n",
       "150   7RSA                            1    A  single\n",
       "151   9RAT                            1    A  single\n",
       "152   9RNT                            1    A  single\n",
       "\n",
       "[153 rows x 4 columns]"
      ]
     },
     "execution_count": 291,
     "metadata": {},
     "output_type": "execute_result"
    },
    {
     "data": {
      "text/html": [
       "<div>\n",
       "<style scoped>\n",
       "    .dataframe tbody tr th:only-of-type {\n",
       "        vertical-align: middle;\n",
       "    }\n",
       "\n",
       "    .dataframe tbody tr th {\n",
       "        vertical-align: top;\n",
       "    }\n",
       "\n",
       "    .dataframe thead th {\n",
       "        text-align: right;\n",
       "    }\n",
       "</style>\n",
       "<table border=\"1\" class=\"dataframe\">\n",
       "  <thead>\n",
       "    <tr style=\"text-align: right;\">\n",
       "      <th></th>\n",
       "      <th>PDB</th>\n",
       "      <th>Biounit</th>\n",
       "      <th>Use</th>\n",
       "      <th>Model</th>\n",
       "    </tr>\n",
       "  </thead>\n",
       "  <tbody>\n",
       "    <tr>\n",
       "      <th>37</th>\n",
       "      <td>1ANS</td>\n",
       "      <td>1</td>\n",
       "      <td>A.1</td>\n",
       "      <td>multi</td>\n",
       "    </tr>\n",
       "    <tr>\n",
       "      <th>40</th>\n",
       "      <td>1BEG</td>\n",
       "      <td>1</td>\n",
       "      <td>A.1</td>\n",
       "      <td>multi</td>\n",
       "    </tr>\n",
       "    <tr>\n",
       "      <th>46</th>\n",
       "      <td>1BNR</td>\n",
       "      <td>1</td>\n",
       "      <td>A.1</td>\n",
       "      <td>multi</td>\n",
       "    </tr>\n",
       "    <tr>\n",
       "      <th>48</th>\n",
       "      <td>1BUS</td>\n",
       "      <td>1</td>\n",
       "      <td>A.1</td>\n",
       "      <td>multi</td>\n",
       "    </tr>\n",
       "    <tr>\n",
       "      <th>51</th>\n",
       "      <td>1CVO</td>\n",
       "      <td>1</td>\n",
       "      <td>A.1</td>\n",
       "      <td>multi</td>\n",
       "    </tr>\n",
       "    <tr>\n",
       "      <th>53</th>\n",
       "      <td>1DE3</td>\n",
       "      <td>1</td>\n",
       "      <td>A.1</td>\n",
       "      <td>multi</td>\n",
       "    </tr>\n",
       "    <tr>\n",
       "      <th>59</th>\n",
       "      <td>1EGF</td>\n",
       "      <td>1</td>\n",
       "      <td>A.1</td>\n",
       "      <td>multi</td>\n",
       "    </tr>\n",
       "    <tr>\n",
       "      <th>62</th>\n",
       "      <td>1EPH</td>\n",
       "      <td>1</td>\n",
       "      <td>A.1</td>\n",
       "      <td>multi</td>\n",
       "    </tr>\n",
       "    <tr>\n",
       "      <th>72</th>\n",
       "      <td>1FW7</td>\n",
       "      <td>1</td>\n",
       "      <td>A.1</td>\n",
       "      <td>multi</td>\n",
       "    </tr>\n",
       "    <tr>\n",
       "      <th>73</th>\n",
       "      <td>1GB1</td>\n",
       "      <td>1</td>\n",
       "      <td>A.1</td>\n",
       "      <td>multi</td>\n",
       "    </tr>\n",
       "    <tr>\n",
       "      <th>76</th>\n",
       "      <td>1HIC</td>\n",
       "      <td>1</td>\n",
       "      <td>A.1</td>\n",
       "      <td>multi</td>\n",
       "    </tr>\n",
       "    <tr>\n",
       "      <th>85</th>\n",
       "      <td>1JAS</td>\n",
       "      <td>1</td>\n",
       "      <td>A.1</td>\n",
       "      <td>multi</td>\n",
       "    </tr>\n",
       "    <tr>\n",
       "      <th>96</th>\n",
       "      <td>1MEK</td>\n",
       "      <td>1</td>\n",
       "      <td>A.1</td>\n",
       "      <td>multi</td>\n",
       "    </tr>\n",
       "    <tr>\n",
       "      <th>97</th>\n",
       "      <td>1MUT</td>\n",
       "      <td>1</td>\n",
       "      <td>A.1</td>\n",
       "      <td>multi</td>\n",
       "    </tr>\n",
       "    <tr>\n",
       "      <th>98</th>\n",
       "      <td>1NZP</td>\n",
       "      <td>1</td>\n",
       "      <td>A.1</td>\n",
       "      <td>multi</td>\n",
       "    </tr>\n",
       "    <tr>\n",
       "      <th>118</th>\n",
       "      <td>1YGW</td>\n",
       "      <td>1</td>\n",
       "      <td>A.1</td>\n",
       "      <td>multi</td>\n",
       "    </tr>\n",
       "    <tr>\n",
       "      <th>128</th>\n",
       "      <td>2IGH</td>\n",
       "      <td>1</td>\n",
       "      <td>A.1</td>\n",
       "      <td>multi</td>\n",
       "    </tr>\n",
       "    <tr>\n",
       "      <th>137</th>\n",
       "      <td>3EGF</td>\n",
       "      <td>1</td>\n",
       "      <td>A.1</td>\n",
       "      <td>multi</td>\n",
       "    </tr>\n",
       "    <tr>\n",
       "      <th>138</th>\n",
       "      <td>3GB1</td>\n",
       "      <td>1</td>\n",
       "      <td>A.1</td>\n",
       "      <td>multi</td>\n",
       "    </tr>\n",
       "  </tbody>\n",
       "</table>\n",
       "</div>"
      ],
      "text/plain": [
       "      PDB Biounit  Use  Model\n",
       "37   1ANS       1  A.1  multi\n",
       "40   1BEG       1  A.1  multi\n",
       "46   1BNR       1  A.1  multi\n",
       "48   1BUS       1  A.1  multi\n",
       "51   1CVO       1  A.1  multi\n",
       "53   1DE3       1  A.1  multi\n",
       "59   1EGF       1  A.1  multi\n",
       "62   1EPH       1  A.1  multi\n",
       "72   1FW7       1  A.1  multi\n",
       "73   1GB1       1  A.1  multi\n",
       "76   1HIC       1  A.1  multi\n",
       "85   1JAS       1  A.1  multi\n",
       "96   1MEK       1  A.1  multi\n",
       "97   1MUT       1  A.1  multi\n",
       "98   1NZP       1  A.1  multi\n",
       "118  1YGW       1  A.1  multi\n",
       "128  2IGH       1  A.1  multi\n",
       "137  3EGF       1  A.1  multi\n",
       "138  3GB1       1  A.1  multi"
      ]
     },
     "execution_count": 291,
     "metadata": {},
     "output_type": "execute_result"
    }
   ],
   "source": [
    "prot_df = audit.proteins_df()\n",
    "prot_df\n",
    "\n",
    "multi = prots_df[prots_df.Model == 'multi']\n",
    "multi"
   ]
  },
  {
   "cell_type": "raw",
   "metadata": {},
   "source": [
    "excluded_df = audit.proteins_df(return_excluded=True)\n",
    "excluded_df"
   ]
  },
  {
   "cell_type": "raw",
   "metadata": {},
   "source": [
    "miss = audit.reset_multi_models()\n",
    "len(miss)"
   ]
  },
  {
   "cell_type": "code",
   "execution_count": 292,
   "metadata": {},
   "outputs": [
    {
     "name": "stdout",
     "output_type": "stream",
     "text": [
      "Valid folders: 139; Invalid folders: 0\n"
     ]
    }
   ],
   "source": [
    "valid, invalid = audit.audit_clean_pdbs_folder()\n",
    "if invalid:\n",
    "    invalid"
   ]
  },
  {
   "cell_type": "raw",
   "metadata": {},
   "source": [
    "audit.reset_book_file(Q_BOOK)\n",
    "audit.same_pdbs_book_v_clean()"
   ]
  },
  {
   "cell_type": "markdown",
   "metadata": {},
   "source": [
    "## tests"
   ]
  },
  {
   "cell_type": "code",
   "execution_count": 95,
   "metadata": {},
   "outputs": [
    {
     "data": {
      "text/plain": [
       "[('R', 3.2, 3.2),\n",
       " ('W', 5.1, 7.2),\n",
       " ('B', 3.2, 4.4),\n",
       " ('C', 4.4, 7.2),\n",
       " ('A', 4.4, 7.2),\n",
       " ('D', 6.0, 7.2),\n",
       " ('W', 7.2, 7.2),\n",
       " ('R', 4.4, 6.0),\n",
       " ('W', 3.2, 5.1),\n",
       " ('W', 3.2, 3.2)]"
      ]
     },
     "execution_count": 95,
     "metadata": {},
     "output_type": "execute_result"
    }
   ],
   "source": [
    "matched_pks = []\n",
    "for i in range(10):\n",
    "    matched_pks.append((random.choice(\"ABCDRGWSX\"),\n",
    "                         random.choice([3.2, 5.1, 6., 4.4, 7.2]),\n",
    "                        random.choice([3.2, 5.1, 6., 4.4, 7.2]*2)))\n",
    "matched_pks"
   ]
  },
  {
   "cell_type": "code",
   "execution_count": 33,
   "metadata": {},
   "outputs": [
    {
     "data": {
      "text/plain": [
       "1214"
      ]
     },
     "execution_count": 33,
     "metadata": {},
     "output_type": "execute_result"
    },
    {
     "data": {
      "text/plain": [
       "[('135L', 'ASP-A0018_'),\n",
       " ('135L', 'GLU-A0035_'),\n",
       " ('135L', 'GLU-A0007_'),\n",
       " ('135L', 'ASP-A0119_'),\n",
       " ('135L', 'ASP-A0087_'),\n",
       " ('135L', 'ASP-A0052_'),\n",
       " ('1A2P', 'CTR-C0110_'),\n",
       " ('1A2P', 'HIS+C0102_'),\n",
       " ('1A2P', 'ASP-C0101_'),\n",
       " ('1A2P', 'ASP-C0086_')]"
      ]
     },
     "execution_count": 33,
     "metadata": {},
     "output_type": "execute_result"
    }
   ],
   "source": [
    "pka_dict = experimental_pkas_to_dict(WT)\n",
    "len(pka_dict)\n",
    "list(pka_dict.keys())[:10]"
   ]
  },
  {
   "cell_type": "raw",
   "metadata": {},
   "source": [
    "4. Start a fresh batch run\n",
    "    * make prot.pdb ready\n",
    "    * remove pK.out\n",
    "    * make book file ready (clear the status code)\n",
    "    * prepare job script - run.sh\n",
    "    * edit 3 entries in bin/batch_submit.py\n",
    "        n_active = 10   # keep this number of active jobs\n",
    "        queue_book = \"book.txt\"\n",
    "        job_name = \"run.sh\"\n",
    "    * go to clean_pdbs directory, run ../bin/batch_submit.py\n",
    "    * test if book.txt file has a new time stamp every time you run the batch_submit.py script."
   ]
  }
 ],
 "metadata": {
  "kernelspec": {
   "display_name": "Python [conda env:mce]",
   "language": "python",
   "name": "conda-env-mce-py"
  },
  "language_info": {
   "codemirror_mode": {
    "name": "ipython",
    "version": 3
   },
   "file_extension": ".py",
   "mimetype": "text/x-python",
   "name": "python",
   "nbconvert_exporter": "python",
   "pygments_lexer": "ipython3",
   "version": "3.11.5"
  }
 },
 "nbformat": 4,
 "nbformat_minor": 4
}
