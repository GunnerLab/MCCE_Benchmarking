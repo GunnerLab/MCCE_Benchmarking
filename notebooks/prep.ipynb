{
 "cells": [
  {
   "cell_type": "markdown",
   "metadata": {},
   "source": [
    "_Run the first 2 code cells without modifications_"
   ]
  },
  {
   "cell_type": "code",
   "execution_count": 1,
   "metadata": {
    "jupyter": {
     "source_hidden": true
    },
    "scrolled": true
   },
   "outputs": [
    {
     "name": "stdout",
     "output_type": "stream",
     "text": [
      "Python ver: 3.11.5 | packaged by conda-forge | (main, Aug 27 2023, 03:34:09) [GCC 12.3.0]\n",
      "Python env: mce\n",
      "Currrent dir: /home/cat/projects/MCCE_Benchmarking/notebooks\n",
      "\n"
     ]
    }
   ],
   "source": [
    "from IPython.core.interactiveshell import InteractiveShell\n",
    "InteractiveShell.ast_node_interactivity = \"all\"\n",
    "from IPython import get_ipython\n",
    "from IPython.display import Markdown #, IFrame\n",
    "# for presentations:\n",
    "#display(HTML(\"<style>.container { width:100% !important; }</style>\"))\n",
    "\n",
    "import sys\n",
    "from pathlib import Path\n",
    "print('Python ver: {}\\nPython env: {}'.format(sys.version, Path(sys.prefix).name))\n",
    "print('Currrent dir: {}\\n'.format(Path.cwd()))\n",
    "\n",
    "\n",
    "def add_to_sys_path(this_path, up=False):\n",
    "\n",
    "    \"\"\"\n",
    "    Prepend this_path to sys.path.\n",
    "    If up=True, path refers to parent folder (1 level up).\n",
    "    \"\"\"\n",
    "\n",
    "    if up:\n",
    "        newp = str(Path(this_path).parent)\n",
    "    else:\n",
    "        newp = str(Path(this_path))\n",
    "\n",
    "    if newp not in sys.path:\n",
    "        sys.path.insert(1, newp)\n",
    "        print('Path added to sys.path: {}'.format(newp))\n",
    "\n",
    "\n",
    "import numpy as np\n",
    "import pandas as pd\n",
    "#pd.set_option(\"display.max_colwidth\", 200)\n",
    "import matplotlib as mpl\n",
    "from matplotlib import pyplot as plt\n",
    "#plt.ion()\n",
    "plt.style.use('seaborn-v0_8-muted')\n",
    "from pprint import pprint as pp\n",
    "\n",
    "def fdir(obj, start_with_str='_', exclude=True):\n",
    "    \"\"\"Filtered dir() for method discovery.\"\"\"\n",
    "    return [d for d in dir(obj) if not d.startswith(start_with_str) == exclude]\n",
    "\n",
    "# autoreload extension\n",
    "ipython = get_ipython()\n",
    "if 'autoreload' not in ipython.extension_manager.loaded:\n",
    "    %load_ext autoreload\n",
    "%autoreload 2"
   ]
  },
  {
   "cell_type": "code",
   "execution_count": 2,
   "metadata": {},
   "outputs": [
    {
     "name": "stdout",
     "output_type": "stream",
     "text": [
      "Path added to sys.path: /home/cat/projects/MCCE_Benchmarking\n"
     ]
    },
    {
     "data": {
      "text/plain": [
       "PosixPath('/home/cat/projects/MCCE_Benchmarking/notebooks')"
      ]
     },
     "execution_count": 2,
     "metadata": {},
     "output_type": "execute_result"
    }
   ],
   "source": [
    "add_to_sys_path(Path.cwd(), up=True)\n",
    "notebooks_dir = Path.cwd()\n",
    "notebooks_dir"
   ]
  },
  {
   "cell_type": "markdown",
   "metadata": {},
   "source": [
    "---"
   ]
  },
  {
   "cell_type": "code",
   "execution_count": 111,
   "metadata": {},
   "outputs": [
    {
     "name": "stdout",
     "output_type": "stream",
     "text": [
      "\n",
      "        BENCH_DATA = /home/cat/projects/MCCE_Benchmarking/benchmark/data\n",
      "        BENCH_WT = /home/cat/projects/MCCE_Benchmarking/benchmark/data/WT_pkas.csv\n",
      "        BENCH_PROTS = /home/cat/projects/MCCE_Benchmarking/benchmark/data/proteins.tsv\n",
      "        BENCH_PDBS = /home/cat/projects/MCCE_Benchmarking/benchmark/data/clean_pdbs\n",
      "        DEFAULT_JOB = default_run\n",
      "        DEFAULT_JOB_SH = /home/cat/projects/MCCE_Benchmarking/benchmark/data/clean_pdbs/default_run.sh\n",
      "        BENCH_Q_BOOK = /home/cat/projects/MCCE_Benchmarking/benchmark/data/clean_pdbs/book.txt\n",
      "        CLEAN_PDBS = clean_pdbs\n",
      "        Q_BOOK = book.txt\n",
      "        \n"
     ]
    }
   ],
   "source": [
    "from benchmark import BENCH, MCCE_EPS, N_SLEEP, N_ACTIVE, MCCE_OUTPUTS\n",
    "print(BENCH)\n",
    "from benchmark import audit, job_setup\n",
    "\n",
    "import getpass\n",
    "import os\n",
    "import shutil\n",
    "import stat\n",
    "import subprocess\n",
    "from typing import Union"
   ]
  },
  {
   "cell_type": "code",
   "execution_count": 123,
   "metadata": {},
   "outputs": [
    {
     "data": {
      "text/plain": [
       "['FILE_ATTRIBUTE_ARCHIVE',\n",
       " 'FILE_ATTRIBUTE_COMPRESSED',\n",
       " 'FILE_ATTRIBUTE_DEVICE',\n",
       " 'FILE_ATTRIBUTE_DIRECTORY',\n",
       " 'FILE_ATTRIBUTE_ENCRYPTED',\n",
       " 'FILE_ATTRIBUTE_HIDDEN',\n",
       " 'FILE_ATTRIBUTE_INTEGRITY_STREAM',\n",
       " 'FILE_ATTRIBUTE_NORMAL',\n",
       " 'FILE_ATTRIBUTE_NOT_CONTENT_INDEXED',\n",
       " 'FILE_ATTRIBUTE_NO_SCRUB_DATA',\n",
       " 'FILE_ATTRIBUTE_OFFLINE',\n",
       " 'FILE_ATTRIBUTE_READONLY',\n",
       " 'FILE_ATTRIBUTE_REPARSE_POINT',\n",
       " 'FILE_ATTRIBUTE_SPARSE_FILE',\n",
       " 'FILE_ATTRIBUTE_SYSTEM',\n",
       " 'FILE_ATTRIBUTE_TEMPORARY',\n",
       " 'FILE_ATTRIBUTE_VIRTUAL',\n",
       " 'SF_APPEND',\n",
       " 'SF_ARCHIVED',\n",
       " 'SF_IMMUTABLE',\n",
       " 'SF_NOUNLINK',\n",
       " 'SF_SNAPSHOT',\n",
       " 'ST_ATIME',\n",
       " 'ST_CTIME',\n",
       " 'ST_DEV',\n",
       " 'ST_GID',\n",
       " 'ST_INO',\n",
       " 'ST_MODE',\n",
       " 'ST_MTIME',\n",
       " 'ST_NLINK',\n",
       " 'ST_SIZE',\n",
       " 'ST_UID',\n",
       " 'S_ENFMT',\n",
       " 'S_IEXEC',\n",
       " 'S_IFBLK',\n",
       " 'S_IFCHR',\n",
       " 'S_IFDIR',\n",
       " 'S_IFDOOR',\n",
       " 'S_IFIFO',\n",
       " 'S_IFLNK',\n",
       " 'S_IFMT',\n",
       " 'S_IFPORT',\n",
       " 'S_IFREG',\n",
       " 'S_IFSOCK',\n",
       " 'S_IFWHT',\n",
       " 'S_IMODE',\n",
       " 'S_IREAD',\n",
       " 'S_IRGRP',\n",
       " 'S_IROTH',\n",
       " 'S_IRUSR',\n",
       " 'S_IRWXG',\n",
       " 'S_IRWXO',\n",
       " 'S_IRWXU',\n",
       " 'S_ISBLK',\n",
       " 'S_ISCHR',\n",
       " 'S_ISDIR',\n",
       " 'S_ISDOOR',\n",
       " 'S_ISFIFO',\n",
       " 'S_ISGID',\n",
       " 'S_ISLNK',\n",
       " 'S_ISPORT',\n",
       " 'S_ISREG',\n",
       " 'S_ISSOCK',\n",
       " 'S_ISUID',\n",
       " 'S_ISVTX',\n",
       " 'S_ISWHT',\n",
       " 'S_IWGRP',\n",
       " 'S_IWOTH',\n",
       " 'S_IWRITE',\n",
       " 'S_IWUSR',\n",
       " 'S_IXGRP',\n",
       " 'S_IXOTH',\n",
       " 'S_IXUSR',\n",
       " 'UF_APPEND',\n",
       " 'UF_COMPRESSED',\n",
       " 'UF_HIDDEN',\n",
       " 'UF_IMMUTABLE',\n",
       " 'UF_NODUMP',\n",
       " 'UF_NOUNLINK',\n",
       " 'UF_OPAQUE',\n",
       " 'filemode']"
      ]
     },
     "execution_count": 123,
     "metadata": {},
     "output_type": "execute_result"
    }
   ],
   "source": [
    "fdir(stat)"
   ]
  },
  {
   "cell_type": "code",
   "execution_count": 126,
   "metadata": {},
   "outputs": [
    {
     "data": {
      "text/plain": [
       "\u001b[0;31mType:\u001b[0m        int\n",
       "\u001b[0;31mString form:\u001b[0m 64\n",
       "\u001b[0;31mDocstring:\u001b[0m  \n",
       "int([x]) -> integer\n",
       "int(x, base=10) -> integer\n",
       "\n",
       "Convert a number or string to an integer, or return 0 if no arguments\n",
       "are given.  If x is a number, return x.__int__().  For floating point\n",
       "numbers, this truncates towards zero.\n",
       "\n",
       "If x is not a number or if base is given, then x must be a string,\n",
       "bytes, or bytearray instance representing an integer literal in the\n",
       "given base.  The literal can be preceded by '+' or '-' and be surrounded\n",
       "by whitespace.  The base defaults to 10.  Valid bases are 0 and 2-36.\n",
       "Base 0 means to interpret the base from the string as an integer literal.\n",
       ">>> int('0b100', base=0)\n",
       "4"
      ]
     },
     "metadata": {},
     "output_type": "display_data"
    }
   ],
   "source": [
    "stat.S_IXUSR?"
   ]
  },
  {
   "cell_type": "raw",
   "metadata": {},
   "source": [
    "import logging\n",
    "\n",
    "\n",
    "APP_NAME = \"mcce_bench\"\n",
    "logger = logging.getLogger(APP_NAME)\n",
    "logger.setLevel(logging.DEBUG)\n",
    "\n",
    "user = getpass.getuser()\n",
    "formatter = logging.Formatter(fmt=\"%(asctime)s - %(name)s - %(user)-8s - %(levelname)s - %(message)s\",\n",
    "                              datefmt=\"%Y-%m-%d %H:%M:%S\")"
   ]
  },
  {
   "cell_type": "code",
   "execution_count": 14,
   "metadata": {},
   "outputs": [],
   "source": [
    "from benchmark import user"
   ]
  },
  {
   "cell_type": "code",
   "execution_count": 15,
   "metadata": {},
   "outputs": [
    {
     "data": {
      "text/plain": [
       "'cat'"
      ]
     },
     "execution_count": 15,
     "metadata": {},
     "output_type": "execute_result"
    }
   ],
   "source": [
    "user"
   ]
  },
  {
   "cell_type": "code",
   "execution_count": 127,
   "metadata": {},
   "outputs": [
    {
     "name": "stdout",
     "output_type": "stream",
     "text": [
      "cat: /home/cat/projects/mcce_benchmarks/clean_pdbs/foobar_echo.sh: Permission denied\n"
     ]
    }
   ],
   "source": [
    "new_sh = job_setup.write_run_script_from_template(benchmarks_dir, job_name = \"foobar_echo\", script_template=ScriptChoices.TEST_ECHO)\n",
    "!cat {new_sh}"
   ]
  },
  {
   "cell_type": "raw",
   "metadata": {},
   "source": [
    "4. Start a fresh batch run\n",
    "    * make prot.pdb ready  :: DONE\n",
    "    * remove pK.out        :: DONE\n",
    "    * make book file ready (clear the status code)\n",
    "    * prepare job script - run.sh\n",
    "    * edit 3 entries in bin/batch_submit.py\n",
    "        n_active = 10   # keep this number of active jobs\n",
    "        queue_book = \"book.txt\"\n",
    "        job_name = \"run.sh\"\n",
    "    * go to clean_pdbs directory, run ../bin/batch_submit.py\n",
    "    * test if book.txt file has a new time stamp every time you run the batch_submit.py script."
   ]
  },
  {
   "cell_type": "markdown",
   "metadata": {},
   "source": [
    "---\n",
    "## Job Setup"
   ]
  },
  {
   "cell_type": "code",
   "execution_count": 27,
   "metadata": {},
   "outputs": [
    {
     "data": {
      "text/plain": [
       "PosixPath('/home/cat/projects/mcce_benchmarks')"
      ]
     },
     "execution_count": 27,
     "metadata": {},
     "output_type": "execute_result"
    }
   ],
   "source": [
    "# in ~/projects folder:\n",
    "benchmarks_dir = Path.cwd().parent.parent.joinpath(\"mcce_benchmarks\")\n",
    "benchmarks_dir"
   ]
  },
  {
   "cell_type": "code",
   "execution_count": 52,
   "metadata": {},
   "outputs": [],
   "source": [
    "def reset_book(benchmarks_dir:Path) -> None:\n",
    "    \"\"\"Make book file ready for new run (clear the status code)\"\"\"\n",
    "\n",
    "    book = benchmarks_dir.joinpath(BENCH.CLEAN_PDBS, BENCH.Q_BOOK)\n",
    "    pdbs = audit.pdb_list_from_book(book)\n",
    "\n",
    "    with open(book, \"w\") as bk:\n",
    "        bk.writelines([f\"{p}\\n\" for p in pdbs])\n",
    "\n",
    "    return"
   ]
  },
  {
   "cell_type": "code",
   "execution_count": 56,
   "metadata": {},
   "outputs": [
    {
     "name": "stdout",
     "output_type": "stream",
     "text": [
      "Valid folders: 139; Invalid folders: 0\n"
     ]
    }
   ],
   "source": [
    "book = benchmarks_dir.joinpath(BENCH.CLEAN_PDBS, BENCH.Q_BOOK)\n",
    "audit.rewrite_book_file(book)"
   ]
  },
  {
   "cell_type": "code",
   "execution_count": 115,
   "metadata": {},
   "outputs": [
    {
     "name": "stdout",
     "output_type": "stream",
     "text": [
      "The data setup in /home/cat/projects/mcce_benchmarks went beautifully!\n"
     ]
    }
   ],
   "source": [
    "# path output may be temp for testing (see next cell)\n",
    "exit_dir = job_setup.setup_pdbs_folder(benchmark_dir)"
   ]
  },
  {
   "cell_type": "code",
   "execution_count": 116,
   "metadata": {},
   "outputs": [],
   "source": [
    "if exit_dir.name != notebooks_dir.name:\n",
    "    job_setup.change_dir(exit_dir, notebooks_dir)\n",
    "assert Path.cwd().name == \"notebooks\""
   ]
  },
  {
   "cell_type": "code",
   "execution_count": 117,
   "metadata": {},
   "outputs": [
    {
     "data": {
      "text/plain": [
       "(139, 0)"
      ]
     },
     "execution_count": 117,
     "metadata": {},
     "output_type": "execute_result"
    },
    {
     "data": {
      "text/plain": [
       "['135L/135l.pdb',\n",
       " '1A2P/1a2p.pdb',\n",
       " '1A6K/1a6k.pdb',\n",
       " '1A6M/1a6m.pdb',\n",
       " '1A6N/1a6n.pdb',\n",
       " '1ANS/1ans_A1.pdb',\n",
       " '1B2V/1b2v.pdb',\n",
       " '1B2X/1b2x.pdb',\n",
       " '1BCX/1bcx.pdb',\n",
       " '1BEG/1beg_A1.pdb']"
      ]
     },
     "execution_count": 117,
     "metadata": {},
     "output_type": "execute_result"
    }
   ],
   "source": [
    "user_valid, user_invalid = audit.list_all_valid_pdbs(benchmark_dir.joinpath(\"clean_pdbs\"))\n",
    "len(user_valid), len(user_invalid)\n",
    "user_valid[:10]"
   ]
  },
  {
   "cell_type": "code",
   "execution_count": null,
   "metadata": {},
   "outputs": [],
   "source": []
  },
  {
   "cell_type": "raw",
   "metadata": {},
   "source": [
    "from enum import StrEnum\n",
    "\n",
    "\n",
    "RUN_SH_DEFAULTS = f\"\"\"#!/bin/bash\n",
    "step1.py --dry prot.pdb\n",
    "step2.py -d {MCCE_EPS}\n",
    "step3.py -d {MCCE_EPS}\n",
    "step4.py\n",
    "\n",
    "sleep {N_SLEEP}\n",
    "\"\"\"\n",
    "\n",
    "RUN_SH_TEST_ECHO = \"\"\"#!/bin/bash\n",
    "\n",
    "echo \"Using RUN_SH_TEST_ECHO as script: $PWD\"\n",
    "\"\"\"\n",
    "\n",
    "# template: expect dict for each step + sleep\n",
    "RUN_SH_TPL = \"\"\"#!/bin/bash\n",
    "step1.py --dry prot.pdb {}\n",
    "step2.py {}\n",
    "step3.py {}\n",
    "step4.py {}\n",
    "\n",
    "sleep {}\n",
    "\"\"\"\n",
    "\n",
    "\n",
    "class RUN_SH(StrEnum):\n",
    "    # for testing bacth_run, only echo script pwd; ready to run:\n",
    "    TEST_ECHO = RUN_SH_TEST_ECHO\n",
    "\n",
    "    # preset with mcce defaults; ready to run:\n",
    "    SH_DEFAULTS = RUN_SH_DEFAULTS\n",
    "\n",
    "    # f-str template for user-args; expects dict for each step + sleep;\n",
    "    # populated using .format(<args>):\n",
    "    SH_TPL = RUN_SH_TPL\n",
    "\n",
    "\n",
    "def write_run_script(user_bench_folder:str,\n",
    "                     job_name:str,\n",
    "                     steps_options_dict:dict = None,\n",
    "                     sh_template:str = None) -> None:\n",
    "    \"\"\"Write a shell script in user_bench_folder/job_name/clean_pdbs\n",
    "    similar to RUN_SH_DEFAULTS\".\n",
    "\n",
    "    Target path: user_bench_folder/job_name/clean_pdbs/.\n",
    "    \"\"\"\n",
    "    target_fp = Path(user_bench_folder).joinpath(job_name, BENCH.CLEAN_PDBS)\n",
    "    if not target_fp.is_dir():\n",
    "        target_fp.mkdir()\n",
    "\n",
    "    if sh_template == RUN_SH.TEST_ECHO.value:\n",
    "        with open(target_fp.joinpath(f\"{job_name}.sh\"), \"w\") as fsh:\n",
    "            fsh.writelines(sh_template)\n",
    "    else:\n",
    "        NotImplemented\n",
    "\n",
    "    return\n",
    "\n",
    "import subprocess\n",
    "import tempfile\n",
    "import time\n",
    "\n",
    "def test_write_run_script() -> bool:\n",
    "\n",
    "    user_bench_folder = Path.cwd()  #tempfile.mkdtemp()\n",
    "    job_name = \"echo_job\"\n",
    "    user_job_folder = user_bench_folder.joinpath(job_name)\n",
    "    if not user_job_folder.is_dir():\n",
    "        user_job_folder.mkdir()\n",
    "\n",
    "    target_fp = user_job_folder.joinpath(BENCH.CLEAN_PDBS)\n",
    "    if not target_fp.is_dir():\n",
    "        target_fp.mkdir()\n",
    "\n",
    "    write_run_script(user_bench_folder,\n",
    "                     job_name,\n",
    "                     sh_template = RUN_SH.TEST_ECHO.value)\n",
    "\n",
    "    #time.sleep(3)\n",
    "\n",
    "    return target_fp.joinpath(f\"{job_name}.sh\").exists()\n",
    "\n",
    "\n",
    "def test_write_run_script_output() -> bool:\n",
    "\n",
    "    user_bench_folder = Path.cwd()  #tempfile.mkdtemp()\n",
    "    job_name = \"echo_job\"\n",
    "    user_job_folder = user_bench_folder.joinpath(job_name)\n",
    "    if not user_job_folder.is_dir():\n",
    "        user_job_folder.mkdir()\n",
    "\n",
    "    target_fp = user_job_folder.joinpath(BENCH.CLEAN_PDBS)\n",
    "    if not target_fp.is_dir():\n",
    "        target_fp.mkdir()\n",
    "\n",
    "    write_run_script(user_bench_folder,\n",
    "                     job_name,\n",
    "                     sh_template = RUN_SH.TEST_ECHO.value)\n",
    "\n",
    "    #os.chdir(user_job_folder.name)\n",
    "    #os.chdir(BENCH.CLEAN_PDBS)\n",
    "    os.chdir(str(target_fp))\n",
    "    print(Path.cwd())\n",
    "\n",
    "    job_script = f\"{job_name}.sh\"\n",
    "    #cmo = subprocess.run(f\"chmod +x {job_script}\",\n",
    "    #                      capture_output=False,\n",
    "    #                      shell=True, )\n",
    "\n",
    "    p = subprocess.run(f\"source {job_script}\",\n",
    "                          capture_output=True,\n",
    "                          text=True,\n",
    "                          shell=True,\n",
    "                          )\n",
    "    if p.returncode:\n",
    "        # -> in log\n",
    "        os.chdir(\"../../\")\n",
    "        print(Path.cwd())\n",
    "        raise subprocess.CalledProcessError(f\"Error in subprocess cmd: {p.args}; {p.stderr}; code: {p.returncode}\")\n",
    "\n",
    "    echo_path = Path(p.stdout.strip())\n",
    "\n",
    "    os.chdir(\"../../\")\n",
    "\n",
    "\n",
    "    return target_fp == echo_path"
   ]
  },
  {
   "cell_type": "code",
   "execution_count": 74,
   "metadata": {},
   "outputs": [
    {
     "name": "stdout",
     "output_type": "stream",
     "text": [
      "/home/cat/projects/MCCE_Benchmarking/notebooks/echo_job/clean_pdbs/echo_job/clean_pdbs/echo_job/clean_pdbs/echo_job/clean_pdbs/echo_job/clean_pdbs/echo_job/clean_pdbs/echo_job/clean_pdbs/echo_job/clean_pdbs/echo_job/clean_pdbs\n"
     ]
    },
    {
     "ename": "TypeError",
     "evalue": "CalledProcessError.__init__() missing 1 required positional argument: 'cmd'",
     "output_type": "error",
     "traceback": [
      "\u001b[0;31m---------------------------------------------------------------------------\u001b[0m",
      "\u001b[0;31mTypeError\u001b[0m                                 Traceback (most recent call last)",
      "Cell \u001b[0;32mIn[74], line 1\u001b[0m\n\u001b[0;32m----> 1\u001b[0m \u001b[43mtest_write_run_script_output\u001b[49m\u001b[43m(\u001b[49m\u001b[43m)\u001b[49m\n",
      "Cell \u001b[0;32mIn[73], line 121\u001b[0m, in \u001b[0;36mtest_write_run_script_output\u001b[0;34m()\u001b[0m\n\u001b[1;32m    118\u001b[0m \u001b[38;5;28;01mif\u001b[39;00m out\u001b[38;5;241m.\u001b[39mreturncode:\n\u001b[1;32m    119\u001b[0m     \u001b[38;5;66;03m# -> in log\u001b[39;00m\n\u001b[1;32m    120\u001b[0m     os\u001b[38;5;241m.\u001b[39mchdir(\u001b[38;5;124m\"\u001b[39m\u001b[38;5;124m../../\u001b[39m\u001b[38;5;124m\"\u001b[39m)\n\u001b[0;32m--> 121\u001b[0m     \u001b[38;5;28;01mraise\u001b[39;00m \u001b[43msubprocess\u001b[49m\u001b[38;5;241;43m.\u001b[39;49m\u001b[43mCalledProcessError\u001b[49m\u001b[43m(\u001b[49m\u001b[38;5;124;43mf\u001b[39;49m\u001b[38;5;124;43m\"\u001b[39;49m\u001b[38;5;124;43mError in subprocess cmd: \u001b[39;49m\u001b[38;5;132;43;01m{\u001b[39;49;00m\u001b[43mout\u001b[49m\u001b[38;5;241;43m.\u001b[39;49m\u001b[43margs\u001b[49m\u001b[38;5;132;43;01m}\u001b[39;49;00m\u001b[38;5;124;43m; \u001b[39;49m\u001b[38;5;132;43;01m{\u001b[39;49;00m\u001b[43mout\u001b[49m\u001b[38;5;241;43m.\u001b[39;49m\u001b[43mstderr\u001b[49m\u001b[38;5;132;43;01m}\u001b[39;49;00m\u001b[38;5;124;43m; code: \u001b[39;49m\u001b[38;5;132;43;01m{\u001b[39;49;00m\u001b[43mout\u001b[49m\u001b[38;5;241;43m.\u001b[39;49m\u001b[43mreturncode\u001b[49m\u001b[38;5;132;43;01m}\u001b[39;49;00m\u001b[38;5;124;43m\"\u001b[39;49m\u001b[43m)\u001b[49m\n\u001b[1;32m    123\u001b[0m echo_path \u001b[38;5;241m=\u001b[39m Path(out\u001b[38;5;241m.\u001b[39mstdout\u001b[38;5;241m.\u001b[39mstrip())\n\u001b[1;32m    125\u001b[0m os\u001b[38;5;241m.\u001b[39mchdir(\u001b[38;5;124m\"\u001b[39m\u001b[38;5;124m../../\u001b[39m\u001b[38;5;124m\"\u001b[39m)\n",
      "\u001b[0;31mTypeError\u001b[0m: CalledProcessError.__init__() missing 1 required positional argument: 'cmd'"
     ]
    }
   ],
   "source": [
    "test_write_run_script_output()"
   ]
  },
  {
   "cell_type": "code",
   "execution_count": 61,
   "metadata": {},
   "outputs": [
    {
     "data": {
      "text/plain": [
       "True"
      ]
     },
     "execution_count": 61,
     "metadata": {},
     "output_type": "execute_result"
    }
   ],
   "source": [
    "test_write_run_script()"
   ]
  },
  {
   "cell_type": "code",
   "execution_count": null,
   "metadata": {},
   "outputs": [],
   "source": []
  },
  {
   "cell_type": "code",
   "execution_count": 13,
   "metadata": {},
   "outputs": [],
   "source": [
    "mcce_step_options = {\n",
    "    \"S1\":{\"msg\":\"Run mcce step 1, premcce to format PDB file to MCCE PDB format.\",\n",
    "          \"--noter\": {\"default\":False, \"help\":\"Do not label terminal residues (for making ftpl).\", \"action\":\"store_true\"},\n",
    "          \"--dry\":   {\"default\":False, \"help\":\"Delete all water molecules.\", \"action\":\"store_true\"},\n",
    "          },\n",
    "    \"S2\":{\"msg\":\"Run mcce step 2, make side chain conformers from step1_out.pdb.\",\n",
    "          \"-l\":      {\"metavar\":\"level\",\n",
    "                      \"type\":int, \"default\":1,\n",
    "                      \"help\":\"Conformer level 1=quick (default), 2=medium, 3=full\"},\n",
    "          },\n",
    "    \"S3\":{\"msg\":\"Run mcce step 3, energy calculations, with multiple threads.\",\n",
    "          # should have been --r:\n",
    "          \"-r\":      {\"default\":False, \"help\":\"refresh opp files and head3.lst without running delphi\", \"action\":\"store_true\"},\n",
    "          \"-c\":      {\"metavar\":\"('conf start', 'conf end')\",\n",
    "                      \"type\":int,\n",
    "                      \"default\":[1, 99999], \"nargs\":2,\n",
    "                       \"help\":\"starting and ending conformer, default to 1 and 9999\"},\n",
    "          \"-f\":      {\"metavar\":\"tmp folder\", \"default\":\"/tmp\", \"hel\":\"delphi temporary folder, default to /tmp\"},\n",
    "          \"-p\":      {\"metavar\":\"processes\", \"type\":int, \"default\":1,\n",
    "                      \"help\":\"run mcce with p number of processes; default: %(default)s.\"},\n",
    "          },\n",
    "    \"S4\":{\"msg\":\"Run mcce step 4, Monte Carlo sampling to simulate a titration.\",\n",
    "          \"--xts\":   {\"default\":False, \"help\":\"Enable entropy correction, default is false\", \"action\":\"store_true\"},\n",
    "          \"--ms\":    {\"default\":False, \"help\":\"Enable microstate output\", \"action\":\"store_true\"},\n",
    "          \"-t\":      {\"metavar\":\"ph or eh\", \"default\":\"ph\", \"help\":\"titration type: pH or Eh.\"},\n",
    "          \"-i\":      {\"metavar\":\"initial ph/eh\", \"default\":\"0.0\", \"help\":\"Initial pH/Eh of titration; default: %(default)s.\"},\n",
    "          \"-d\":      {\"metavar\":\"interval\", \"default\":\"1.0\", \"help\":\"titration interval in pJ or mV; default: %(default)s.\"},\n",
    "          \"-n\":      {\"metavar\":\"steps\", \"default\":\"15\", \"help\":\"number of steps of titration; default: %(default)s.\"},\n",
    "          }\n",
    "}\n",
    "\n",
    "\n",
    "CLI_NAME = \"mcce_bench\"  # as per pyproject.toml\n",
    "SUB_CMD1, SUB_CMD2 = \"from_step1\", \"from_step3\"\n",
    "USAGE = f\"{CLI_NAME} <sub-command for simulation start> <related args>\\n\"\n",
    "\n",
    "DESC = f\"\"\"\n",
    "    Launch a MCCE benchmarking job using curated structures from the pKa Database v1.\n",
    "\n",
    "    The main command is {CLI_NAME!r} along with one of two sub-commands,\n",
    "    which distinguishes the starting point for the MCCE simulation.\n",
    "    - Sub-command {SUB_CMD1!r}: starts from step1 -> step4;\n",
    "    - Sub-command {SUB_CMD2!r}: starts from step3 -> step4 :: NOT YET IMPLEMENTED!\n",
    "\n",
    "\"\"\"\n",
    "\n",
    "HELP_1 = f\"Sub-command {SUB_CMD1!r} for starting the MCCE simulation from step1.\"\n",
    "HELP_2 = f\"Sub-command {SUB_CMD2!r} for starting the MCCE simulation from step3.\"\n",
    "\n",
    "def bench_from_step1(args):\n",
    "    \"\"\"Benchmark setup and launch for 'from_step1' sub-command.\"\"\"\n",
    "    # TODO\n",
    "    # setup folders\n",
    "    # write <job_name>.sh\n",
    "    # launch\n",
    "    pass\n",
    "\n",
    "\n",
    "def bench_from_step3(args):\n",
    "    \"\"\"Benchmark setup and launch for 'from_step3' sub-command.\"\"\"\n",
    "    # TODO later\n",
    "    pass\n",
    "\n",
    "\n",
    "def bench_parser():\n",
    "    \"\"\"Command line arguments parser with sub-commands for use in benchmarking.\n",
    "    \"\"\"\n",
    "\n",
    "    def arg_valid_dirpath(p: str):\n",
    "        \"\"\"Return resolved path from the command line.\"\"\"\n",
    "        if not len(p):\n",
    "            return None\n",
    "        return Path(p).resolve()\n",
    "\n",
    "    p = ArgumentParser(\n",
    "        prog = f\"{CLI_NAME} \",\n",
    "        description = DESC,\n",
    "        usage = USAGE,\n",
    "        formatter_class = RawDescriptionHelpFormatter,\n",
    "        epilog = \">>> END of %(prog)s.\",\n",
    "    )\n",
    "    subparsers = p.add_subparsers(required=True,\n",
    "                                  title='pipeline step commands',\n",
    "                                  description='Subcommands of the MCCE-CDC processing pipeline',\n",
    "                                  help='The 3 steps of the MCCE-CDC processing pipeline',\n",
    "                                  dest='subparser_name'\n",
    "                                 )\n",
    "\n",
    "    # do_ms_to_pdbs\n",
    "    sub1 = subparsers.add_parser(SUB_CMD1,\n",
    "                                 formatter_class = RawDescriptionHelpFormatter,\n",
    "                                  help=HELP_1)\n",
    "    sub1.add_argument(\n",
    "        \"benchmark_dir\",\n",
    "        type = arg_valid_dirpath,\n",
    "        help = \"\"\"The user's choice of directory for setting up the benchmarking job(s); required.\n",
    "        If the directory does not exists in the location where this cli is called, then it is\n",
    "        created. Recommended name: \"mcce_benchmarks\"; this is where all subsequent jobs will\n",
    "        reside as subfolders.\n",
    "        \"\"\"\n",
    "    )\n",
    "    sub1.add_argument(\n",
    "        \"job_name\",\n",
    "        type = str,\n",
    "        help = \"\"\"The descriptive name, devoid of spaces, for the current job (don't make it too long!); required.\n",
    "        This job_name is be used to name the curent job in 'benchmark_dir' and name the script that launches the\n",
    "        MCCE simulation in ./clean_pdbs folder.\n",
    "        \"\"\"\n",
    "    )\n",
    "    # always 'prot.pdb' as per soft-link setup: ln -s DIR/dir.pdb prot.pdb\n",
    "    #sub1.add_argument(\n",
    "    #    \"-prot\",\n",
    "    #    metavar = \"pdb\",\n",
    "    #    default = \"prot.pdb\",\n",
    "    #    help = \"The name of the pdb; default: %(default)s.\",\n",
    "    )\n",
    "    sub1.add_argument(\n",
    "        \"--dry\",\n",
    "        default = False,\n",
    "        help = \"No water molecules.\",\n",
    "        action = \"store_true\"\n",
    "    )\n",
    "    sub1.add_argument(\n",
    "        \"--norun\",\n",
    "        default = False,\n",
    "        action = \"store_true\",\n",
    "        help = \"Create run.prm without running the step\"\n",
    "    )\n",
    "    sub1.add_argument(\n",
    "        \"-e\",\n",
    "        metavar = \"/path/to/mcce\",\n",
    "        default = \"mcce\",\n",
    "        help = \"Location of the mcce executable, i.e. which mcce; default: %(default)s.\",\n",
    "    )\n",
    "    sub1.add_argument(\n",
    "        \"-eps\",\n",
    "        metavar = \"epsilon\",\n",
    "        default = \"4.0\",\n",
    "        help = \"Protein dielectric constant; default: %(default)s.\",\n",
    "    )\n",
    "    sub1.add_argument(\n",
    "        \"-u\",\n",
    "        metavar = \"Comma-separated list of Key=Value pairs.\",\n",
    "        default = \"\",\n",
    "        help = \"\"\"Any comma-separated KEY=var from run.prm; e.g.:\n",
    "        -u HOME_MCCE=/path/to/mcce_home,H2O_SASCUTOFF=0.05,EXTRA=./extra.tpl; default: %(default)s.\n",
    "        Note: No space after a comma!\"\"\"},\n",
    "\n",
    "    #sub1.add_argument(\n",
    "    #    \"-msout_file\",\n",
    "    #    type = str,\n",
    "    #    default = \"pH7eH0ms.txt\",\n",
    "    #    help = \"Name of the mcce_dir/ms_out/ microstates file, `pHXeHYms.txt'; default: %(default)s.\"\"\",\n",
    "    #)\n",
    "\n",
    "    # bind sub1 parser with its related function:\n",
    "    sub1.set_defaults(func=bench_from_step1)\n",
    "\n",
    "    # later:\n",
    "    #sub2 = subparsers.add_parser(SUB_CMD2,\n",
    "    #                              formatter_class = RawDescriptionHelpFormatter,\n",
    "    #                              help=HELP_2)\n",
    "\n",
    "    return p\n"
   ]
  },
  {
   "cell_type": "code",
   "execution_count": 14,
   "metadata": {},
   "outputs": [
    {
     "name": "stdout",
     "output_type": "stream",
     "text": [
      "{'S1': {'--dry': {'action': 'store_true',\n",
      "                  'default': False,\n",
      "                  'help': 'Delete all water molecules.'},\n",
      "        '--norun': {'action': 'store_true',\n",
      "                    'default': False,\n",
      "                    'help': 'Create run.prm but do not run step 1.'},\n",
      "        '--noter': {'action': 'store_true',\n",
      "                    'default': False,\n",
      "                    'help': 'Do not label terminal residues (for making '\n",
      "                            'ftpl).'},\n",
      "        '-d': {'default': '4.0',\n",
      "               'help': 'protein dielectric constant; default: %(default)s.',\n",
      "               'metavar': 'epsilon'},\n",
      "        '-e': {'default': 'mcce',\n",
      "               'help': 'mcce executable location; default: %(default)s.',\n",
      "               'metavar': '/path/to/mcce'},\n",
      "        '-u': {'default': '',\n",
      "               'help': 'Any comma-separated KEY=var from run.prm; e.g.:\\n'\n",
      "                       '                     -u '\n",
      "                       'HOME_MCCE=/path/to/mcce_home,H2O_SASCUTOFF=0.05,EXTRA=./extra.tpl; '\n",
      "                       'default: %(default)s.',\n",
      "               'metavar': 'Key=Value list'},\n",
      "        'msg': 'Run mcce step 1, premcce to format PDB file to MCCE PDB '\n",
      "               'format.'},\n",
      " 'S2': {'--norun': {'action': 'store_true',\n",
      "                    'default': False,\n",
      "                    'help': 'Create run.prm but do not run step 3.'},\n",
      "        '-d': {'default': '4.0',\n",
      "               'help': 'dielectric constant for optimizing conformers',\n",
      "               'metavar': 'epsilon'},\n",
      "        '-e': {'default': 'mcce',\n",
      "               'help': 'mcce executable location; default: %(default)s.',\n",
      "               'metavar': '/path/to/mcce'},\n",
      "        '-l': {'default': 1,\n",
      "               'help': 'Conformer level 1=quick (default), 2=medium, 3=full',\n",
      "               'metavar': 'level',\n",
      "               'type': <class 'int'>},\n",
      "        '-u': {'default': '',\n",
      "               'help': 'Any comma-separated KEY=var from run.prm; e.g.:\\n'\n",
      "                       '                      -u '\n",
      "                       'HOME_MCCE=/path/to/mcce_home,H2O_SASCUTOFF=0.05,EXTRA=./extra.tpl; '\n",
      "                       'default: %(default)s.',\n",
      "               'metavar': 'Key=Value list'},\n",
      "        'msg': 'Run mcce step 2, make side chain conformers from '\n",
      "               'step1_out.pdb.'},\n",
      " 'S3': {'--norun': {'action': 'store_true',\n",
      "                    'default': False,\n",
      "                    'help': 'Create run.prm but do not run step 3.'},\n",
      "        '-c': {'default': [1, 99999],\n",
      "               'help': 'starting and ending conformer, default to 1 and 9999',\n",
      "               'metavar': \"('conf start', 'conf end')\",\n",
      "               'nargs': 2,\n",
      "               'type': <class 'int'>},\n",
      "        '-d': {'default': '4.0',\n",
      "               'help': 'dielectric constant',\n",
      "               'metavar': 'epsilon'},\n",
      "        '-e': {'default': 'mcce',\n",
      "               'help': 'mcce executable locationv',\n",
      "               'metavar': '/path/to/mcce'},\n",
      "        '-f': {'default': '/tmp',\n",
      "               'hel': 'delphi temporary folder, default to /tmp',\n",
      "               'metavar': 'tmp folder'},\n",
      "        '-p': {'default': 1,\n",
      "               'help': 'run mcce with number of processes; default: '\n",
      "                       '%(default)s.',\n",
      "               'metavar': 'processes',\n",
      "               'type': <class 'int'>},\n",
      "        '-r': {'action': 'store_true',\n",
      "               'default': False,\n",
      "               'help': 'refresh opp files and head3.lst without running '\n",
      "                       'delphi'},\n",
      "        '-u': {'default': '',\n",
      "               'help': 'Any comma-separated KEY=var from run.prm; e.g.:\\n'\n",
      "                       '                      -u '\n",
      "                       'HOME_MCCE=/path/to/mcce_home,H2O_SASCUTOFF=0.05,EXTRA=./extra.tpl; '\n",
      "                       'default: %(default)s.',\n",
      "               'metavar': 'Key=Value list'},\n",
      "        'msg': 'Run mcce step 3, energy calculations, with multiple threads.'},\n",
      " 'S4': {'--ms': {'action': 'store_true',\n",
      "                 'default': False,\n",
      "                 'help': 'Enable microstate output'},\n",
      "        '--norun': {'action': 'store_true',\n",
      "                    'default': False,\n",
      "                    'help': 'Create run.prm but do not run step 4.'},\n",
      "        '--xts': {'action': 'store_true',\n",
      "                  'default': False,\n",
      "                  'help': 'Enable entropy correction, default is false'},\n",
      "        '-d': {'default': '1.0',\n",
      "               'help': 'titration interval in pJ or mV; default: %(default)s.',\n",
      "               'metavar': 'interval'},\n",
      "        '-e': {'default': 'mcce',\n",
      "               'help': 'mcce executable location; default: %(default)s.',\n",
      "               'metavar': '/path/to/mcce'},\n",
      "        '-i': {'default': '0.0',\n",
      "               'help': 'Initial pH/Eh of titration; default: %(default)s.',\n",
      "               'metavar': 'initial ph/eh'},\n",
      "        '-n': {'default': '15',\n",
      "               'help': 'number of steps of titration; default: %(default)s.',\n",
      "               'metavar': 'steps'},\n",
      "        '-t': {'default': 'ph',\n",
      "               'help': 'titration type: pH or Eh.',\n",
      "               'metavar': 'ph or eh'},\n",
      "        '-u': {'default': '',\n",
      "               'help': 'Any comma-separated KEY=var from run.prm; e.g.:\\n'\n",
      "                       '                      -u '\n",
      "                       'HOME_MCCE=/path/to/mcce_home,H2O_SASCUTOFF=0.05,EXTRA=./extra.tpl; '\n",
      "                       'default: %(default)s.',\n",
      "               'metavar': 'Key=Value list'},\n",
      "        'msg': 'Run mcce step 4, Monte Carlo sampling to simulate a '\n",
      "               'titration.'}}\n"
     ]
    }
   ],
   "source": [
    "pp(mcce_step_options)"
   ]
  },
  {
   "cell_type": "markdown",
   "metadata": {},
   "source": [
    "---\n",
    "---\n",
    "\n",
    "# Prep of the \"master\" pdbs folder, `BENCH_PDBS`:\n",
    " * Remove any MCCE output files or folder along with prot.pdb\n",
    "---"
   ]
  },
  {
   "cell_type": "raw",
   "metadata": {},
   "source": [
    "from benchmark import audit, cleanup\n",
    "\n",
    "cleanup.clean_job_folder(BENCH.BENCH_PDBS)\n",
    "audit.reset_book_file(BENCH.BENCH_Q_BOOK)"
   ]
  },
  {
   "cell_type": "raw",
   "metadata": {
    "jupyter": {
     "source_hidden": true
    }
   },
   "source": [
    "def main():\n",
    "    \"\"\"main fn of pkanalysis.py\"\"\"\n",
    "\n",
    "    calc_pkas = job_pkas_to_dict()\n",
    "    expr_pkas = experimental_pkas_to_dict()\n",
    "    matched_pks = match_pkas(expr_pkas, calc_pkas)\n",
    "    n = len(matched_pks)\n",
    "    matched_pkas_to_csv(matched_pks)\n",
    "\n",
    "    # Overall fitting\n",
    "    x = np.array([p[1] for p in matched_pks])  # x: experiemntal pKas\n",
    "    y = np.array([p[2] for p in matched_pks])  # y: calculated pKas\n",
    "\n",
    "    b, m = np.polynomial.Polynomial.fit(x, y, 1, domain=[0,20]).convert().coef\n",
    "    op = \"+\" if m > 0 else \"-\"\n",
    "    print(f\"y (calculated pKa) = {b:.3f} {op} {abs(m):.3f}x (experimental pKa)\")\n",
    "\n",
    "    delta = x - y\n",
    "    rmsd = np.sqrt(np.mean(delta**2))\n",
    "    print(f\"RMSD between expl. and calc. = {rmsd:.3f}\")\n",
    "\n",
    "    within_2, within_1 = 0, 0\n",
    "    for d in np.abs(delta):\n",
    "        if d <= 2.0:\n",
    "            within_2 += 1\n",
    "            if d <= 1.0:\n",
    "                within_1 += 1\n",
    "\n",
    "    print(f\"{within_2/n:.1%} within 2 pH units\")\n",
    "    print(f\"{within_1/n:.1%} within 1 pH unit\")\n"
   ]
  },
  {
   "cell_type": "markdown",
   "metadata": {},
   "source": [
    "## tests"
   ]
  },
  {
   "cell_type": "code",
   "execution_count": 49,
   "metadata": {},
   "outputs": [],
   "source": [
    "import random"
   ]
  },
  {
   "cell_type": "code",
   "execution_count": 95,
   "metadata": {},
   "outputs": [
    {
     "data": {
      "text/plain": [
       "[('R', 3.2, 3.2),\n",
       " ('W', 5.1, 7.2),\n",
       " ('B', 3.2, 4.4),\n",
       " ('C', 4.4, 7.2),\n",
       " ('A', 4.4, 7.2),\n",
       " ('D', 6.0, 7.2),\n",
       " ('W', 7.2, 7.2),\n",
       " ('R', 4.4, 6.0),\n",
       " ('W', 3.2, 5.1),\n",
       " ('W', 3.2, 3.2)]"
      ]
     },
     "execution_count": 95,
     "metadata": {},
     "output_type": "execute_result"
    }
   ],
   "source": [
    "matched_pks = []\n",
    "for i in range(10):\n",
    "    matched_pks.append((random.choice(\"ABCDRGWSX\"),\n",
    "                         random.choice([3.2, 5.1, 6., 4.4, 7.2]),\n",
    "                        random.choice([3.2, 5.1, 6., 4.4, 7.2]*2)))\n",
    "matched_pks"
   ]
  },
  {
   "cell_type": "code",
   "execution_count": 33,
   "metadata": {},
   "outputs": [
    {
     "data": {
      "text/plain": [
       "1214"
      ]
     },
     "execution_count": 33,
     "metadata": {},
     "output_type": "execute_result"
    },
    {
     "data": {
      "text/plain": [
       "[('135L', 'ASP-A0018_'),\n",
       " ('135L', 'GLU-A0035_'),\n",
       " ('135L', 'GLU-A0007_'),\n",
       " ('135L', 'ASP-A0119_'),\n",
       " ('135L', 'ASP-A0087_'),\n",
       " ('135L', 'ASP-A0052_'),\n",
       " ('1A2P', 'CTR-C0110_'),\n",
       " ('1A2P', 'HIS+C0102_'),\n",
       " ('1A2P', 'ASP-C0101_'),\n",
       " ('1A2P', 'ASP-C0086_')]"
      ]
     },
     "execution_count": 33,
     "metadata": {},
     "output_type": "execute_result"
    }
   ],
   "source": [
    "pka_dict = experimental_pkas_to_dict(WT)\n",
    "len(pka_dict)\n",
    "list(pka_dict.keys())[:10]"
   ]
  }
 ],
 "metadata": {
  "kernelspec": {
   "display_name": "Python [conda env:mce]",
   "language": "python",
   "name": "conda-env-mce-py"
  },
  "language_info": {
   "codemirror_mode": {
    "name": "ipython",
    "version": 3
   },
   "file_extension": ".py",
   "mimetype": "text/x-python",
   "name": "python",
   "nbconvert_exporter": "python",
   "pygments_lexer": "ipython3",
   "version": "3.11.5"
  }
 },
 "nbformat": 4,
 "nbformat_minor": 4
}
