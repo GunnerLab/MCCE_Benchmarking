{
 "cells": [
  {
   "cell_type": "markdown",
   "metadata": {},
   "source": [
    "_Run the first 2 cells without modifications_"
   ]
  },
  {
   "cell_type": "code",
   "execution_count": 1,
   "metadata": {
    "jupyter": {
     "source_hidden": true
    },
    "scrolled": true
   },
   "outputs": [
    {
     "name": "stdout",
     "output_type": "stream",
     "text": [
      "Python ver: 3.11.5 | packaged by conda-forge | (main, Aug 27 2023, 03:34:09) [GCC 12.3.0]\n",
      "Python env: mce\n",
      "Currrent dir: /home/cat/projects/MCCE_Benchmarking/notebooks\n",
      "\n"
     ]
    }
   ],
   "source": [
    "from IPython.core.interactiveshell import InteractiveShell\n",
    "InteractiveShell.ast_node_interactivity = \"all\"\n",
    "from IPython import get_ipython\n",
    "from IPython.display import Markdown #, IFrame\n",
    "# for presentations:\n",
    "#display(HTML(\"<style>.container { width:100% !important; }</style>\"))\n",
    "\n",
    "import sys\n",
    "from pathlib import Path\n",
    "print('Python ver: {}\\nPython env: {}'.format(sys.version, Path(sys.prefix).name))\n",
    "print('Currrent dir: {}\\n'.format(Path.cwd()))\n",
    "\n",
    "\n",
    "def add_to_sys_path(this_path, up=False):\n",
    "\n",
    "    \"\"\"\n",
    "    Prepend this_path to sys.path.\n",
    "    If up=True, path refers to parent folder (1 level up).\n",
    "    \"\"\"\n",
    "\n",
    "    if up:\n",
    "        newp = str(Path(this_path).parent)\n",
    "    else:\n",
    "        newp = str(Path(this_path))\n",
    "\n",
    "    if newp not in sys.path:\n",
    "        sys.path.insert(1, newp)\n",
    "        print('Path added to sys.path: {}'.format(newp))\n",
    "\n",
    "\n",
    "import numpy as np\n",
    "import pandas as pd\n",
    "#pd.set_option(\"display.max_colwidth\", 200)\n",
    "import matplotlib as mpl\n",
    "from matplotlib import pyplot as plt\n",
    "#plt.ion()\n",
    "plt.style.use('seaborn-v0_8-muted')\n",
    "from pprint import pprint as pp\n",
    "\n",
    "def fdir(obj, start_with_str='_', exclude=True):\n",
    "    \"\"\"Filtered dir() for method discovery.\"\"\"\n",
    "    return [d for d in dir(obj) if not d.startswith(start_with_str) == exclude]\n",
    "\n",
    "\n",
    "def new_section(title='New section'):\n",
    "    style = \"text-align:center;background:#c2d3ef;padding:16px;color:#ffffff;font-size:2em;width:98%\"\n",
    "    return HTML('<div style=\"{}\">{}</div>'.format(style, title))\n",
    "\n",
    "\n",
    "def add_div(div_class, div_start, div_text, output_string=True):\n",
    "    \"\"\"\n",
    "    Behaviour with default `output_string=True`:\n",
    "    The cell is overwritten with the output string, but the cell mode is still in 'code' not 'markdown':\n",
    "    ```\n",
    "    [x]\n",
    "    add_div('alert-warning', 'Tip: ', 'some tip here', output_string=True)\n",
    "    [x]\n",
    "    <div class=\"alert alert-warning\"><b>Tip: </b>some tip here</div>\n",
    "    ```\n",
    "    The only thing to do is change the cell mode to Markdown.\n",
    "    If `output_string=False`, the HTML output is displayed in an output cell.\n",
    "    \"\"\"\n",
    "\n",
    "    accepted = ['alert-info', 'alert-warning', 'alert-danger']\n",
    "\n",
    "    if div_class not in accepted:\n",
    "        return HTML(f\"\"\"<div class=\"alert\"><b>Wrong class:</b> `div_start` is one of {accepted}.\n",
    "                    </div>\"\"\")\n",
    "    div = f\"\"\"<div class=\"alert {div_class}\"><b>{div_start}</b>{div_text}</div>\"\"\"\n",
    "    if output_string:\n",
    "        return get_ipython().set_next_input(div, 'markdown')\n",
    "    else:\n",
    "        return Markdown(div) #HTML(div)\n",
    "\n",
    "\n",
    "\n",
    "# autoreload extension\n",
    "ipython = get_ipython()\n",
    "if 'autoreload' not in ipython.extension_manager.loaded:\n",
    "    %load_ext autoreload\n",
    "%autoreload 2"
   ]
  },
  {
   "cell_type": "code",
   "execution_count": 5,
   "metadata": {},
   "outputs": [],
   "source": [
    "add_to_sys_path(Path.cwd(), up=True)"
   ]
  },
  {
   "cell_type": "code",
   "execution_count": 4,
   "metadata": {},
   "outputs": [],
   "source": [
    "from benchmark import audit\n",
    "import shutil\n",
    "import random"
   ]
  },
  {
   "cell_type": "code",
   "execution_count": 13,
   "metadata": {},
   "outputs": [],
   "source": [
    "# parser.add_argument(\"prot\", metavar=\"pdb\", nargs=1)  and:\n",
    "\n",
    "common_options = {\n",
    "          \"msg\":\"MCCE benchmarking - Common options.\",\n",
    "          \"--norun\": {\"default\":False, \"help\":\"Create run.prm but do not run step 1.\", \"action\":\"store_true\"},\n",
    "          \"-e\":      {\"metavar\":\"/path/to/mcce\", \"default\":\"mcce\", \"help\":\"mcce executable location; default: %(default)s.\"},\n",
    "          # -d :: epsilon in S1-S3; -d is titration interval in S4.\n",
    "          \"-d3\":      {\"metavar\":\"epsilon\", \"default\":\"4.0\", \"help\":\"protein dielectric constant; default: %(default)s.\"},\n",
    "          \"-u\":      {\"metavar\":\"Key=Value list\", \"default\":\"\",\n",
    "                     \"help\":\"\"\"Any comma-separated KEY=var from run.prm; e.g.:\n",
    "                     -u HOME_MCCE=/path/to/mcce_home,H2O_SASCUTOFF=0.05,EXTRA=./extra.tpl; default: %(default)s.\"\"\"},\n",
    "}\n",
    "\n",
    "\n",
    "CLI_NAME = \"mcce_bench\"  # as per pyproject.toml\n",
    "\n",
    "USAGE = f\"{CLI_NAME} <sub-command for step to run> <args for step>\\n\"\n",
    "\n",
    "DESC = \"\"\"\n",
    "    Run the 'MCCE_CDC pipeline' in 3 steps:\n",
    "      step 1. ms sampling to pdbs\n",
    "      step 2. mcce to gromacs pdbs conversion\n",
    "      step 3. output files for sites energies (.npy) and ms matrices (.csv)\n",
    "\n",
    "    The command for the pipeline is `mccecdc`, which expects a sub-command,\n",
    "    one among `step1`, `step2` or `step3`, then the argument(s) for each.\n",
    "\n",
    "    Output folders:\n",
    "      pdbs_dir = mcce_dir/SAMPLED_PDBS\n",
    "      parsed_dir = mcce_dir/PARSED_PDBS\n",
    "      - These module variables hold the folder names:\n",
    "          SAMPLED_PDBS = \"pdb_output_mc\"\n",
    "          PARSED_PDBS = \"parsed_pdb_output_mc\"\n",
    "\n",
    "\"\"\"\n",
    "\n",
    "def bench_parser():\n",
    "    \"\"\"Command line arguments parser with sub-commands for use in benchmarking.\n",
    "    \"\"\"\n",
    "\n",
    "    def arg_valid_dirpath(p: str):\n",
    "        \"\"\"Return resolved path from the command line.\"\"\"\n",
    "        if not len(p):\n",
    "            return None\n",
    "        return Path(p).resolve()\n",
    "\n",
    "    p = ArgumentParser(\n",
    "        prog = f\"{CLI_NAME} \",\n",
    "        description = DESC,\n",
    "        usage = USAGE,\n",
    "        formatter_class = RawDescriptionHelpFormatter,\n",
    "        epilog = \">>> END of %(prog)s.\",\n",
    "    )\n",
    "    subparsers = p.add_subparsers(required=True,\n",
    "                                  title='pipeline step commands',\n",
    "                                  description='Subcommands of the MCCE-CDC processing pipeline',\n",
    "                                  help='The 3 steps of the MCCE-CDC processing pipeline',\n",
    "                                  dest='subparser_name'\n",
    "                                 )\n",
    "\n",
    "    # do_ms_to_pdbs\n",
    "    step1 = subparsers.add_parser('step1',\n",
    "                                  formatter_class = RawDescriptionHelpFormatter,\n",
    "                                  help=HELP_1)\n",
    "    step1.add_argument(\n",
    "        \"mcce_dir\",\n",
    "        type = arg_valid_dirpath,\n",
    "        help = \"The folder with files from a MCCE simulation; required.\",\n",
    "    )\n",
    "    step1.add_argument(\n",
    "        \"sample_size\",\n",
    "        type = int,\n",
    "        help = \"The size of the microstates sample, hence the number of pdb files to write; required\",\n",
    "    )\n",
    "    step1.add_argument(\n",
    "        \"-msout_file\",\n",
    "        type = str,\n",
    "        default = \"pH7eH0ms.txt\",\n",
    "        help = \"Name of the mcce_dir/ms_out/ microstates file, `pHXeHYms.txt'; default: %(default)s.\"\"\",\n",
    "    )\n",
    "    step1.add_argument(\n",
    "        \"-sampling_kind\",\n",
    "        type = str,\n",
    "        choices = [\"d\", \"deterministic\", \"r\", \"random\"],\n",
    "        default = \"r\",\n",
    "        help = \"\"\"The sampling kind: 'deterministic': regularly spaced samples,\n",
    "        'random': random indices over the microstates space; default: %(default)s.\"\"\",\n",
    "    )\n",
    "    step1.add_argument(\n",
    "        \"-seed\",\n",
    "        type = int,\n",
    "        default = None,\n",
    "        help = \"The seed for random number generation. Only applies to random sampling; default: %(default)s.\",\n",
    "    )\n",
    "    step1.set_defaults(func=do_ms_to_pdbs)\n",
    "\n",
    "    # do_convert_pdbs\n",
    "    step2 = subparsers.add_parser('step2',\n",
    "                                  formatter_class = RawDescriptionHelpFormatter,\n",
    "                                  help=HELP_2)\n",
    "    step2.add_argument(\n",
    "        \"mcce_dir\",\n",
    "        type = arg_valid_dirpath,\n",
    "        help = \"The folder with files from a MCCE simulation; required.\",\n",
    "    )\n",
    "    step2.add_argument(\n",
    "        \"-empty_parsed_dir\",\n",
    "        type = bool,\n",
    "        default = True,\n",
    "        # folder reuse:\n",
    "        help = \"If True, the pdb files in the folder `parsed_dir` will be deleted before the new conversion.\"\n",
    "    )\n",
    "    step2.set_defaults(func=do_convert_pdbs)\n",
    "\n",
    "    # do_site_energies + matrices\n",
    "    step3 = subparsers.add_parser('step3',\n",
    "                                  formatter_class = RawDescriptionHelpFormatter,\n",
    "                                  help=HELP_3)\n",
    "    step3.add_argument(\n",
    "        \"mcce_dir\",\n",
    "        type = arg_valid_dirpath,\n",
    "        help = \"The folder with files from a MCCE simulation; required.\",\n",
    "    )\n",
    "    # Remove? Current cofactor of interest is \"CLA\" (hard-coded in `microstates_sites_energies`).\n",
    "    step3.add_argument(\n",
    "        \"-cofactor_list\",\n",
    "        type = list,\n",
    "        default = cofactors_list,\n",
    "        help=\"List of cofactors (3-char string) found in the pdb used in the MCC simulation; default: %(default)s.\",\n",
    "    )\n",
    "    step3.set_defaults(func=do_site_energies)\n",
    "\n",
    "    return p\n",
    "\n",
    "\n",
    "\n",
    "mcce_step_options = {\n",
    "    \"S1\":{\"msg\":\"Run mcce step 1, premcce to format PDB file to MCCE PDB format.\",\n",
    "          \"--noter\": {\"default\":False, \"help\":\"Do not label terminal residues (for making ftpl).\", \"action\":\"store_true\"},\n",
    "          \"--dry\":   {\"default\":False, \"help\":\"Delete all water molecules.\", \"action\":\"store_true\"},\n",
    "          },\n",
    "    \"S2\":{\"msg\":\"Run mcce step 2, make side chain conformers from step1_out.pdb.\",\n",
    "          \"-l\":      {\"metavar\":\"level\", \"default\":1, \"help\":\"Conformer level 1=quick (default), 2=medium, 3=full\", \"type\":int},\n",
    "          },\n",
    "    \"S3\":{\"msg\":\"Run mcce step 3, energy calculations, with multiple threads.\",\n",
    "          # should have been --r:\n",
    "          \"-r\":      {\"default\":False, \"help\":\"refresh opp files and head3.lst without running delphi\", \"action\":\"store_true\"},\n",
    "          \"-c\":      {\"metavar\":\"('conf start', 'conf end')\", \"default\":[1, 99999], \"nargs\":2,\n",
    "                       \"help\":\"starting and ending conformer, default to 1 and 9999\", \"type\":int},\n",
    "          \"-f\":      {\"metavar\":\"tmp folder\", \"default\":\"/tmp\", \"hel\":\"delphi temporary folder, default to /tmp\"},\n",
    "          \"-p\":      {\"metavar\":\"processes\", \"default\":1, \"help\":\"run mcce with number of processes; default: %(default)s.\", \"type\":int},\n",
    "          },\n",
    "    \"S4\":{\"msg\":\"Run mcce step 4, Monte Carlo sampling to simulate a titration.\",\n",
    "          \"--xts\":   {\"default\":False, \"help\":\"Enable entropy correction, default is false\", \"action\":\"store_true\"},\n",
    "          \"--ms\":    {\"default\":False, \"help\":\"Enable microstate output\", \"action\":\"store_true\"},\n",
    "          \"-t\":      {\"metavar\":\"ph or eh\", \"default\":\"ph\", \"help\":\"titration type: pH or Eh.\"},\n",
    "          \"-i\":      {\"metavar\":\"initial ph/eh\", \"default\":\"0.0\", \"help\":\"Initial pH/Eh of titration; default: %(default)s.\"},\n",
    "          \"-d\":      {\"metavar\":\"interval\", \"default\":\"1.0\", \"help\":\"titration interval in pJ or mV; default: %(default)s.\"},\n",
    "          \"-n\":      {\"metavar\":\"steps\", \"default\":\"15\", \"help\":\"number of steps of titration; default: %(default)s.\"},\n",
    "          }\n",
    "}\n"
   ]
  },
  {
   "cell_type": "code",
   "execution_count": 14,
   "metadata": {},
   "outputs": [
    {
     "name": "stdout",
     "output_type": "stream",
     "text": [
      "{'S1': {'--dry': {'action': 'store_true',\n",
      "                  'default': False,\n",
      "                  'help': 'Delete all water molecules.'},\n",
      "        '--norun': {'action': 'store_true',\n",
      "                    'default': False,\n",
      "                    'help': 'Create run.prm but do not run step 1.'},\n",
      "        '--noter': {'action': 'store_true',\n",
      "                    'default': False,\n",
      "                    'help': 'Do not label terminal residues (for making '\n",
      "                            'ftpl).'},\n",
      "        '-d': {'default': '4.0',\n",
      "               'help': 'protein dielectric constant; default: %(default)s.',\n",
      "               'metavar': 'epsilon'},\n",
      "        '-e': {'default': 'mcce',\n",
      "               'help': 'mcce executable location; default: %(default)s.',\n",
      "               'metavar': '/path/to/mcce'},\n",
      "        '-u': {'default': '',\n",
      "               'help': 'Any comma-separated KEY=var from run.prm; e.g.:\\n'\n",
      "                       '                     -u '\n",
      "                       'HOME_MCCE=/path/to/mcce_home,H2O_SASCUTOFF=0.05,EXTRA=./extra.tpl; '\n",
      "                       'default: %(default)s.',\n",
      "               'metavar': 'Key=Value list'},\n",
      "        'msg': 'Run mcce step 1, premcce to format PDB file to MCCE PDB '\n",
      "               'format.'},\n",
      " 'S2': {'--norun': {'action': 'store_true',\n",
      "                    'default': False,\n",
      "                    'help': 'Create run.prm but do not run step 3.'},\n",
      "        '-d': {'default': '4.0',\n",
      "               'help': 'dielectric constant for optimizing conformers',\n",
      "               'metavar': 'epsilon'},\n",
      "        '-e': {'default': 'mcce',\n",
      "               'help': 'mcce executable location; default: %(default)s.',\n",
      "               'metavar': '/path/to/mcce'},\n",
      "        '-l': {'default': 1,\n",
      "               'help': 'Conformer level 1=quick (default), 2=medium, 3=full',\n",
      "               'metavar': 'level',\n",
      "               'type': <class 'int'>},\n",
      "        '-u': {'default': '',\n",
      "               'help': 'Any comma-separated KEY=var from run.prm; e.g.:\\n'\n",
      "                       '                      -u '\n",
      "                       'HOME_MCCE=/path/to/mcce_home,H2O_SASCUTOFF=0.05,EXTRA=./extra.tpl; '\n",
      "                       'default: %(default)s.',\n",
      "               'metavar': 'Key=Value list'},\n",
      "        'msg': 'Run mcce step 2, make side chain conformers from '\n",
      "               'step1_out.pdb.'},\n",
      " 'S3': {'--norun': {'action': 'store_true',\n",
      "                    'default': False,\n",
      "                    'help': 'Create run.prm but do not run step 3.'},\n",
      "        '-c': {'default': [1, 99999],\n",
      "               'help': 'starting and ending conformer, default to 1 and 9999',\n",
      "               'metavar': \"('conf start', 'conf end')\",\n",
      "               'nargs': 2,\n",
      "               'type': <class 'int'>},\n",
      "        '-d': {'default': '4.0',\n",
      "               'help': 'dielectric constant',\n",
      "               'metavar': 'epsilon'},\n",
      "        '-e': {'default': 'mcce',\n",
      "               'help': 'mcce executable locationv',\n",
      "               'metavar': '/path/to/mcce'},\n",
      "        '-f': {'default': '/tmp',\n",
      "               'hel': 'delphi temporary folder, default to /tmp',\n",
      "               'metavar': 'tmp folder'},\n",
      "        '-p': {'default': 1,\n",
      "               'help': 'run mcce with number of processes; default: '\n",
      "                       '%(default)s.',\n",
      "               'metavar': 'processes',\n",
      "               'type': <class 'int'>},\n",
      "        '-r': {'action': 'store_true',\n",
      "               'default': False,\n",
      "               'help': 'refresh opp files and head3.lst without running '\n",
      "                       'delphi'},\n",
      "        '-u': {'default': '',\n",
      "               'help': 'Any comma-separated KEY=var from run.prm; e.g.:\\n'\n",
      "                       '                      -u '\n",
      "                       'HOME_MCCE=/path/to/mcce_home,H2O_SASCUTOFF=0.05,EXTRA=./extra.tpl; '\n",
      "                       'default: %(default)s.',\n",
      "               'metavar': 'Key=Value list'},\n",
      "        'msg': 'Run mcce step 3, energy calculations, with multiple threads.'},\n",
      " 'S4': {'--ms': {'action': 'store_true',\n",
      "                 'default': False,\n",
      "                 'help': 'Enable microstate output'},\n",
      "        '--norun': {'action': 'store_true',\n",
      "                    'default': False,\n",
      "                    'help': 'Create run.prm but do not run step 4.'},\n",
      "        '--xts': {'action': 'store_true',\n",
      "                  'default': False,\n",
      "                  'help': 'Enable entropy correction, default is false'},\n",
      "        '-d': {'default': '1.0',\n",
      "               'help': 'titration interval in pJ or mV; default: %(default)s.',\n",
      "               'metavar': 'interval'},\n",
      "        '-e': {'default': 'mcce',\n",
      "               'help': 'mcce executable location; default: %(default)s.',\n",
      "               'metavar': '/path/to/mcce'},\n",
      "        '-i': {'default': '0.0',\n",
      "               'help': 'Initial pH/Eh of titration; default: %(default)s.',\n",
      "               'metavar': 'initial ph/eh'},\n",
      "        '-n': {'default': '15',\n",
      "               'help': 'number of steps of titration; default: %(default)s.',\n",
      "               'metavar': 'steps'},\n",
      "        '-t': {'default': 'ph',\n",
      "               'help': 'titration type: pH or Eh.',\n",
      "               'metavar': 'ph or eh'},\n",
      "        '-u': {'default': '',\n",
      "               'help': 'Any comma-separated KEY=var from run.prm; e.g.:\\n'\n",
      "                       '                      -u '\n",
      "                       'HOME_MCCE=/path/to/mcce_home,H2O_SASCUTOFF=0.05,EXTRA=./extra.tpl; '\n",
      "                       'default: %(default)s.',\n",
      "               'metavar': 'Key=Value list'},\n",
      "        'msg': 'Run mcce step 4, Monte Carlo sampling to simulate a '\n",
      "               'titration.'}}\n"
     ]
    }
   ],
   "source": [
    "pp(mcce_step_options)"
   ]
  },
  {
   "cell_type": "markdown",
   "metadata": {},
   "source": [
    "---\n",
    "---\n",
    "\n",
    "# Prep of the \"master\" pdbs folder, `PDBS`:\n",
    " * Remove any MCCE output files or folder along with prot.pdb\n",
    "---"
   ]
  },
  {
   "cell_type": "code",
   "execution_count": 6,
   "metadata": {},
   "outputs": [
    {
     "data": {
      "text/plain": [
       "PosixPath('/home/cat/projects/MCCE_Benchmarking/data/clean_pdbs')"
      ]
     },
     "execution_count": 6,
     "metadata": {},
     "output_type": "execute_result"
    },
    {
     "data": {
      "text/plain": [
       "PosixPath('/home/cat/projects/MCCE_Benchmarking/data/WT_pkas.csv')"
      ]
     },
     "execution_count": 6,
     "metadata": {},
     "output_type": "execute_result"
    },
    {
     "data": {
      "text/plain": [
       "PosixPath('/home/cat/projects/MCCE_Benchmarking/data/book.txt')"
      ]
     },
     "execution_count": 6,
     "metadata": {},
     "output_type": "execute_result"
    },
    {
     "data": {
      "text/plain": [
       "PosixPath('/home/cat/projects/MCCE_Benchmarking/data/proteins.txt')"
      ]
     },
     "execution_count": 6,
     "metadata": {},
     "output_type": "execute_result"
    }
   ],
   "source": [
    "DATA = Path.cwd().parent.joinpath(\"data\")\n",
    "\n",
    "PDBS = DATA.joinpath(\"clean_pdbs\")\n",
    "PDBS\n",
    "WT = DATA.joinpath(\"WT_pkas.csv\")\n",
    "WT\n",
    "Q_BOOK = DATA.joinpath(\"book.txt\")\n",
    "Q_BOOK\n",
    "PROTS = DATA.joinpath(\"proteins.txt\")\n",
    "PROTS"
   ]
  },
  {
   "cell_type": "raw",
   "metadata": {},
   "source": [
    "audit.clean_job_folder(PDBS)\n",
    "audit.reset_book_file(Q_BOOK)"
   ]
  },
  {
   "cell_type": "code",
   "execution_count": 35,
   "metadata": {},
   "outputs": [],
   "source": [
    "def main():\n",
    "    \"\"\"main fn of pkanalysis.py\"\"\"\n",
    "\n",
    "    calc_pkas = job_pkas_to_dict()\n",
    "    expr_pkas = experimental_pkas_to_dict()\n",
    "    matched_pks = match_pkas(expr_pkas, calc_pkas)\n",
    "    n = len(matched_pks)\n",
    "    matched_pkas_to_csv(matched_pks)\n",
    "\n",
    "    # Overall fitting\n",
    "    x = np.array([p[1] for p in matched_pks])  # x: experiemntal pKas\n",
    "    y = np.array([p[2] for p in matched_pks])  # y: calculated pKas\n",
    "\n",
    "    b, m = np.polynomial.Polynomial.fit(x, y, 1, domain=[0,20]).convert().coef\n",
    "    op = \"+\" if m > 0 else \"-\"\n",
    "    print(f\"y (calculated pKa) = {b:.3f} {op} {abs(m):.3f}x (experimental pKa)\")\n",
    "\n",
    "    delta = x - y\n",
    "    rmsd = np.sqrt(np.mean(delta**2))\n",
    "    print(f\"RMSD between expl. and calc. = {rmsd:.3f}\")\n",
    "\n",
    "    within_2, within_1 = 0, 0\n",
    "    for d in np.abs(delta):\n",
    "        if d <= 2.0:\n",
    "            within_2 += 1\n",
    "            if d <= 1.0:\n",
    "                within_1 += 1\n",
    "\n",
    "    print(f\"{within_2/n:.1%} within 2 pH units\")\n",
    "    print(f\"{within_1/n:.1%} within 1 pH unit\")\n"
   ]
  },
  {
   "cell_type": "markdown",
   "metadata": {},
   "source": [
    "## tests"
   ]
  },
  {
   "cell_type": "code",
   "execution_count": 95,
   "metadata": {},
   "outputs": [
    {
     "data": {
      "text/plain": [
       "[('R', 3.2, 3.2),\n",
       " ('W', 5.1, 7.2),\n",
       " ('B', 3.2, 4.4),\n",
       " ('C', 4.4, 7.2),\n",
       " ('A', 4.4, 7.2),\n",
       " ('D', 6.0, 7.2),\n",
       " ('W', 7.2, 7.2),\n",
       " ('R', 4.4, 6.0),\n",
       " ('W', 3.2, 5.1),\n",
       " ('W', 3.2, 3.2)]"
      ]
     },
     "execution_count": 95,
     "metadata": {},
     "output_type": "execute_result"
    }
   ],
   "source": [
    "matched_pks = []\n",
    "for i in range(10):\n",
    "    matched_pks.append((random.choice(\"ABCDRGWSX\"),\n",
    "                         random.choice([3.2, 5.1, 6., 4.4, 7.2]),\n",
    "                        random.choice([3.2, 5.1, 6., 4.4, 7.2]*2)))\n",
    "matched_pks"
   ]
  },
  {
   "cell_type": "code",
   "execution_count": 33,
   "metadata": {},
   "outputs": [
    {
     "data": {
      "text/plain": [
       "1214"
      ]
     },
     "execution_count": 33,
     "metadata": {},
     "output_type": "execute_result"
    },
    {
     "data": {
      "text/plain": [
       "[('135L', 'ASP-A0018_'),\n",
       " ('135L', 'GLU-A0035_'),\n",
       " ('135L', 'GLU-A0007_'),\n",
       " ('135L', 'ASP-A0119_'),\n",
       " ('135L', 'ASP-A0087_'),\n",
       " ('135L', 'ASP-A0052_'),\n",
       " ('1A2P', 'CTR-C0110_'),\n",
       " ('1A2P', 'HIS+C0102_'),\n",
       " ('1A2P', 'ASP-C0101_'),\n",
       " ('1A2P', 'ASP-C0086_')]"
      ]
     },
     "execution_count": 33,
     "metadata": {},
     "output_type": "execute_result"
    }
   ],
   "source": [
    "pka_dict = experimental_pkas_to_dict(WT)\n",
    "len(pka_dict)\n",
    "list(pka_dict.keys())[:10]"
   ]
  },
  {
   "cell_type": "raw",
   "metadata": {},
   "source": [
    "4. Start a fresh batch run\n",
    "    * make prot.pdb ready\n",
    "    * remove pK.out\n",
    "    * make book file ready (clear the status code)\n",
    "    * prepare job script - run.sh\n",
    "    * edit 3 entries in bin/batch_submit.py\n",
    "        n_active = 10   # keep this number of active jobs\n",
    "        queue_book = \"book.txt\"\n",
    "        job_name = \"run.sh\"\n",
    "    * go to clean_pdbs directory, run ../bin/batch_submit.py\n",
    "    * test if book.txt file has a new time stamp every time you run the batch_submit.py script."
   ]
  }
 ],
 "metadata": {
  "kernelspec": {
   "display_name": "Python [conda env:mce]",
   "language": "python",
   "name": "conda-env-mce-py"
  },
  "language_info": {
   "codemirror_mode": {
    "name": "ipython",
    "version": 3
   },
   "file_extension": ".py",
   "mimetype": "text/x-python",
   "name": "python",
   "nbconvert_exporter": "python",
   "pygments_lexer": "ipython3",
   "version": "3.11.5"
  }
 },
 "nbformat": 4,
 "nbformat_minor": 4
}
