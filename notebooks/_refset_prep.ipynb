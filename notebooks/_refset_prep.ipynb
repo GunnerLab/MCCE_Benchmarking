{
 "cells": [
  {
   "cell_type": "markdown",
   "metadata": {},
   "source": [
    "_Run the first 2 code cells without modifications_"
   ]
  },
  {
   "cell_type": "code",
   "execution_count": 1,
   "metadata": {
    "jupyter": {
     "source_hidden": true
    },
    "scrolled": true
   },
   "outputs": [
    {
     "name": "stdout",
     "output_type": "stream",
     "text": [
      "Python ver: 3.11.5 | packaged by conda-forge | (main, Aug 27 2023, 03:34:09) [GCC 12.3.0]\n",
      "Python env: mce\n",
      "Currrent dir: /home/cat/projects/MCCE_Benchmarking/notebooks\n",
      "\n"
     ]
    }
   ],
   "source": [
    "from IPython.core.interactiveshell import InteractiveShell\n",
    "InteractiveShell.ast_node_interactivity = \"all\"\n",
    "\n",
    "from IPython.display import Markdown #, IFrame\n",
    "# for presentations:\n",
    "#display(HTML(\"<style>.container { width:100% !important; }</style>\"))\n",
    "\n",
    "import numpy as np\n",
    "import pandas as pd\n",
    "#pd.set_option(\"display.max_colwidth\", 200)\n",
    "import matplotlib as mpl\n",
    "from matplotlib import pyplot as plt\n",
    "plt.ion()\n",
    "plt.style.use('seaborn-v0_8-muted')\n",
    "from pprint import pprint as ptp\n",
    "\n",
    "import sys\n",
    "from pathlib import Path\n",
    "print('Python ver: {}\\nPython env: {}'.format(sys.version, Path(sys.prefix).name))\n",
    "print('Currrent dir: {}\\n'.format(Path.cwd()))\n",
    "\n",
    "\n",
    "def add_to_sys_path(this_path, up=False):\n",
    "    \"\"\"\n",
    "    Prepend this_path to sys.path.\n",
    "    If up=True, path refers to parent folder (1 level up).\n",
    "    \"\"\"\n",
    "\n",
    "    if up:\n",
    "        newp = str(Path(this_path).parent)\n",
    "    else:\n",
    "        newp = str(Path(this_path))\n",
    "    if newp not in sys.path:\n",
    "        sys.path.insert(1, newp)\n",
    "        print('Path added to sys.path: {}'.format(newp))\n",
    "\n",
    "\n",
    "def fdir(obj, start_with_str='_', exclude=True):\n",
    "    \"\"\"Filtered dir() for method discovery.\"\"\"\n",
    "    return [d for d in dir(obj) if not d.startswith(start_with_str) == exclude]\n",
    "\n",
    "def despine(which=['top','right']):\n",
    "    \"\"\"which ([str])): 'left','top','right','bottom'.\"\"\"\n",
    "\n",
    "    ax = plt.gca()\n",
    "    for side in which:\n",
    "        ax.spines[side].set_visible(False)\n",
    "    return\n",
    "\n",
    "def md_width_comment(w:int=120) -> str:\n",
    "    \"\"\"Width guide for composing md documents.\"\"\"\n",
    "    return f\"<!-- dotted line width = {w}\\n{'.'*w}-->\"\n",
    "\n",
    "\n",
    "# autoreload extension\n",
    "%load_ext autoreload\n",
    "%autoreload 2"
   ]
  },
  {
   "cell_type": "raw",
   "metadata": {},
   "source": [
    "notebooks_dir = Path.cwd()\n",
    "add_to_sys_path(notebooks_dir, up=True)\n",
    "notebooks_dir"
   ]
  },
  {
   "cell_type": "markdown",
   "metadata": {},
   "source": [
    "---\n",
    "---"
   ]
  },
  {
   "cell_type": "code",
   "execution_count": 8,
   "metadata": {},
   "outputs": [
    {
     "name": "stdout",
     "output_type": "stream",
     "text": [
      "\n",
      "        BENCH_DATA = /home/cat/projects/MCCE_Benchmarking/mcce_benchmark/data\n",
      "        BENCH_PH_REFS = /home/cat/projects/MCCE_Benchmarking/mcce_benchmark/data/pkadbv1/refsets\n",
      "        BENCH_PARSE_PHE4 = /home/cat/projects/MCCE_Benchmarking/mcce_benchmark/data/pkadbv1/refsets/parse.e4\n",
      "        BENCH_DB = /home/cat/projects/MCCE_Benchmarking/mcce_benchmark/data/pkadbv1\n",
      "        BENCH_WT = /home/cat/projects/MCCE_Benchmarking/mcce_benchmark/data/pkadbv1/WT_pkas.csv\n",
      "        BENCH_PROTS = /home/cat/projects/MCCE_Benchmarking/mcce_benchmark/data/pkadbv1/proteins.tsv\n",
      "        BENCH_PDBS = /home/cat/projects/MCCE_Benchmarking/mcce_benchmark/data/pkadbv1/RUNS\n",
      "        DEFAULT_JOB = default_run\n",
      "        DEFAULT_JOB_SH = /home/cat/projects/MCCE_Benchmarking/mcce_benchmark/data/pkadbv1/RUNS/default_run.sh\n",
      "        BENCH_Q_BOOK = /home/cat/projects/MCCE_Benchmarking/mcce_benchmark/data/pkadbv1/RUNS/book.txt\n",
      "        Q_BOOK = book.txt\n",
      "        \n",
      "USER_ENV = 'mce'\n",
      "CONDA_PATHS = ('/home/cat/miniconda3/bin', '/home/cat/miniconda3/condabin')\n"
     ]
    }
   ],
   "source": [
    "from mcce_benchmark import BENCH, N_PDBS, ENTRY_POINTS, FILES, MCCE_OUTPUTS, RUNS_DIR, ANALYZE_DIR\n",
    "from mcce_benchmark import USER_ENV, CONDA_PATHS\n",
    "from mcce_benchmark.io_utils import Pathok\n",
    "from mcce_benchmark import audit, cleanup\n",
    "\n",
    "import shutil\n",
    "\n",
    "print(BENCH)\n",
    "print(f\"{USER_ENV = }\\n{CONDA_PATHS = }\")"
   ]
  },
  {
   "cell_type": "raw",
   "metadata": {},
   "source": [
    "---\n",
    "# Prep downloaded copy of completed refset from isis; keep pK.out until pkanalysis run on folder\n",
    "---\n",
    "1. get - DONE\n",
    "scp -r cchenal@134.74.25.124/:~projects/mcce_benchmarks/ .\n",
    "```\n",
    "total 184\n",
    "-rw-r--r--   1 cat cat 173762 Feb 16 10:08 WT_pkas.csv\n",
    "-rw-r--r--   1 cat cat    483 Feb 16 10:13 benchmark.log\n",
    "drwxr-xr-x 122 cat cat   4096 Feb 16 10:13 clean_pdbs\n",
    "-rw-r--r--   1 cat cat   2763 Feb 16 10:08 proteins\n",
    "```\n",
    "2. rm all but these files: - DONE\n",
    "  - run.prm. record\n",
    "  - run.log\n",
    "  - step2 _out.pdb\n",
    "  - new.tpl (43 prots have one)\n",
    "  - pK.out\n",
    "  - sum_crg.out\n",
    "\n",
    "# Run analysis on refset\n",
    "\n",
    "# Complete file cleanup:\n",
    "  * rm original pdb file(s): i.e.: startswith(DIR.lower) and extension == \".pdb\" or \".full\"\n",
    "    ```\n",
    "    3gb1_A1.pdb\r",
    "    33gb1.pdb.full\n",
    "    ```"
   ]
  },
  {
   "cell_type": "code",
   "execution_count": 9,
   "metadata": {},
   "outputs": [
    {
     "data": {
      "text/plain": [
       "PosixPath('/home/cat/projects/MCCE_Benchmarking/mcce_benchmark/data/pkadbv1/refsets/parse.e4')"
      ]
     },
     "execution_count": 9,
     "metadata": {},
     "output_type": "execute_result"
    },
    {
     "data": {
      "text/plain": [
       "PosixPath('/home/cat/projects/MCCE_Benchmarking/mcce_benchmark/data/pkadbv1/refsets/parse.e4/RUNS')"
      ]
     },
     "execution_count": 9,
     "metadata": {},
     "output_type": "execute_result"
    }
   ],
   "source": [
    "# Soon to be ref set:\n",
    "\n",
    "bench_dir = BENCH.BENCH_PARSE_PHE4\n",
    "bench_dir\n",
    "pdbs = bench_dir.joinpath(RUNS_DIR)\n",
    "pdbs"
   ]
  },
  {
   "cell_type": "raw",
   "metadata": {},
   "source": [
    "def refset_rm_pdbs(pdbs:Path):\n",
    "\n",
    "    for dp in pdbs.iterdir():\n",
    "        if not dp.is_dir():\n",
    "            continue\n",
    "\n",
    "        pdb_name = dp.name.lower()\n",
    "        pdbs_to_remove = [dp.joinpath(f\"{pdb_name}.pdb.full\"),\n",
    "                          dp.joinpath(f\"{pdb_name}_A1.pdb\"),\n",
    "                          dp.joinpath(f\"{pdb_name}.pdb\"),\n",
    "                          dp.joinpath(\"prot.pdb\")]\n",
    "        for pdb in pdbs_to_remove:\n",
    "            if pdb.exists():\n",
    "                pdb.unlink()\n",
    "                print(pdb, \"removed\")\n"
   ]
  },
  {
   "cell_type": "code",
   "execution_count": 10,
   "metadata": {},
   "outputs": [
    {
     "name": "stdout",
     "output_type": "stream",
     "text": [
      "To delete:\n",
      " ['extra.tpl', 'acc.atm', 'head2.lst', 'mc_out', 'acc.res', 'head1.lst', 'entropy.out', 'null', 'step1_out.pdb', 'name.txt', 'respair.lst', 'fort.38', 'prot.pdb', 'step3_out.pdb', 'run.prm', 'vdw0.lst', 'rot_stat', 'head3.lst', 'step0_out.pdb']\n"
     ]
    }
   ],
   "source": [
    "files_retained = [\"run.prm.record\",\n",
    "                  \"run.log\",\n",
    "                  \"step2_out.pdb\",        # needed for e.g. a count check\n",
    "                  \"new.tpl\",              # 43 prots have one\n",
    "                  \"pK.out\",\n",
    "                  \"sum_crg.out\"\n",
    "                 ]\n",
    "\n",
    "# what the function will delete:\n",
    "delete_lst = list(set(files_retained).symmetric_difference(set(MCCE_OUTPUTS+[\"prot.pdb\"])))\n",
    "print(\"To delete:\\n\", delete_lst)"
   ]
  },
  {
   "cell_type": "code",
   "execution_count": 13,
   "metadata": {},
   "outputs": [
    {
     "name": "stdout",
     "output_type": "stream",
     "text": [
      "fp = PosixPath('/home/cat/projects/MCCE_Benchmarking/mcce_benchmark/data/pkadbv1/refsets/parse.e4/RUNS/book.txt'): remaining\n",
      "fp = PosixPath('/home/cat/projects/MCCE_Benchmarking/mcce_benchmark/data/pkadbv1/refsets/parse.e4/RUNS/default_run.sh'): remaining\n"
     ]
    },
    {
     "name": "stderr",
     "output_type": "stream",
     "text": [
      "[autoreload of mcce_benchmark.cleanup failed: Traceback (most recent call last):\n",
      "  File \"/home/cat/miniconda3/envs/mce/lib/python3.11/site-packages/IPython/extensions/autoreload.py\", line 276, in check\n",
      "    superreload(m, reload, self.old_objects)\n",
      "  File \"/home/cat/miniconda3/envs/mce/lib/python3.11/site-packages/IPython/extensions/autoreload.py\", line 475, in superreload\n",
      "    module = reload(module)\n",
      "             ^^^^^^^^^^^^^^\n",
      "  File \"/home/cat/miniconda3/envs/mce/lib/python3.11/importlib/__init__.py\", line 169, in reload\n",
      "    _bootstrap._exec(spec, module)\n",
      "  File \"<frozen importlib._bootstrap>\", line 621, in _exec\n",
      "  File \"<frozen importlib._bootstrap_external>\", line 936, in exec_module\n",
      "  File \"<frozen importlib._bootstrap_external>\", line 1074, in get_code\n",
      "  File \"<frozen importlib._bootstrap_external>\", line 1004, in source_to_code\n",
      "  File \"<frozen importlib._bootstrap>\", line 241, in _call_with_frames_removed\n",
      "  File \"/home/cat/projects/MCCE_Benchmarking/mcce_benchmark/cleanup.py\", line 40\n",
      "    if fp.name == f\"{folder.name.lower()}.pdb\" or fp.name == f\"{folder.name.lower()}_A1.pdb\"):\n",
      "                                                                                            ^\n",
      "SyntaxError: unmatched ')'\n",
      "]\n"
     ]
    }
   ],
   "source": [
    "cleanup.prep_refset(bench_dir, keep_files=files_retained) #, del_original_pdb=True)  #default"
   ]
  },
  {
   "cell_type": "code",
   "execution_count": null,
   "metadata": {},
   "outputs": [],
   "source": []
  }
 ],
 "metadata": {
  "kernelspec": {
   "display_name": "Python [conda env:mce]",
   "language": "python",
   "name": "conda-env-mce-py"
  },
  "language_info": {
   "codemirror_mode": {
    "name": "ipython",
    "version": 3
   },
   "file_extension": ".py",
   "mimetype": "text/x-python",
   "name": "python",
   "nbconvert_exporter": "python",
   "pygments_lexer": "ipython3",
   "version": "3.11.5"
  }
 },
 "nbformat": 4,
 "nbformat_minor": 4
}
